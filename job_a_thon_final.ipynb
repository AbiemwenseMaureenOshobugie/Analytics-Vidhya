{
  "cells": [
    {
      "cell_type": "code",
      "execution_count": 7,
      "metadata": {
        "id": "LNHpydU6Dg3o"
      },
      "outputs": [],
      "source": [
        "!pip3 -q install catboost\n",
        "!pip -q install fast_ml"
      ]
    },
    {
      "cell_type": "code",
      "execution_count": 8,
      "metadata": {
        "id": "RswBc48Wz1m3"
      },
      "outputs": [],
      "source": [
        "import pandas as pd\n",
        "import numpy as np \n",
        "\n",
        "from statsmodels.graphics.tsaplots import plot_acf\n",
        "from statsmodels.graphics.tsaplots import plot_pacf\n",
        "from sklearn.model_selection import train_test_split\n",
        "from catboost import CatBoostRegressor\n",
        "import catboost as cbr\n",
        "from sklearn.ensemble import GradientBoostingRegressor\n",
        "from sklearn.ensemble import RandomForestRegressor\n",
        "from sklearn.ensemble import BaggingRegressor\n",
        "from sklearn.ensemble import StackingRegressor\n",
        "from xgboost import XGBRegressor\n",
        "\n",
        "# for checking performance\n",
        "from sklearn import metrics\n",
        "\n",
        "from sklearn.metrics import r2_score, mean_absolute_error\n",
        "from sklearn.metrics import mean_squared_error\n",
        "\n",
        "from fast_ml.feature_engineering import FeatureEngineering_Numerical, FeatureEngineering_Categorical, FeatureEngineering_DateTime\n",
        "from fast_ml.outlier_treatment import OutlierTreatment\n",
        "from fast_ml.missing_data_analysis import MissingDataAnalysis\n",
        "from fast_ml.model_evaluation import threshold_evaluation\n",
        "from fast_ml.feature_selection import get_constant_features\n",
        "from fast_ml.model_development import train_valid_test_split\n",
        "from fast_ml.model_evaluation import threshold_evaluation\n",
        "from fast_ml import eda"
      ]
    },
    {
      "cell_type": "code",
      "execution_count": 10,
      "metadata": {
        "id": "o_FD2CPE07Cl"
      },
      "outputs": [],
      "source": [
        "dftrain = pd.read_csv('/content/job_hack_train.csv')\n",
        "dftest = pd.read_csv('/content/job_hack_test.csv')"
      ]
    },
    {
      "cell_type": "code",
      "execution_count": 11,
      "metadata": {
        "colab": {
          "base_uri": "https://localhost:8080/",
          "height": 206
        },
        "id": "TwhRJuXa1TNo",
        "outputId": "1a61a046-bd9e-450a-d862-15b4cca797da"
      },
      "outputs": [
        {
          "output_type": "execute_result",
          "data": {
            "text/plain": [
              "   row_id             datetime       energy\n",
              "0       1  2008-03-01 00:00:00  1259.985563\n",
              "1       2  2008-03-01 01:00:00  1095.541500\n",
              "2       3  2008-03-01 02:00:00  1056.247500\n",
              "3       4  2008-03-01 03:00:00  1034.742000\n",
              "4       5  2008-03-01 04:00:00  1026.334500"
            ],
            "text/html": [
              "\n",
              "  <div id=\"df-6d74b050-73c0-4c1f-b269-792aa05acff3\">\n",
              "    <div class=\"colab-df-container\">\n",
              "      <div>\n",
              "<style scoped>\n",
              "    .dataframe tbody tr th:only-of-type {\n",
              "        vertical-align: middle;\n",
              "    }\n",
              "\n",
              "    .dataframe tbody tr th {\n",
              "        vertical-align: top;\n",
              "    }\n",
              "\n",
              "    .dataframe thead th {\n",
              "        text-align: right;\n",
              "    }\n",
              "</style>\n",
              "<table border=\"1\" class=\"dataframe\">\n",
              "  <thead>\n",
              "    <tr style=\"text-align: right;\">\n",
              "      <th></th>\n",
              "      <th>row_id</th>\n",
              "      <th>datetime</th>\n",
              "      <th>energy</th>\n",
              "    </tr>\n",
              "  </thead>\n",
              "  <tbody>\n",
              "    <tr>\n",
              "      <th>0</th>\n",
              "      <td>1</td>\n",
              "      <td>2008-03-01 00:00:00</td>\n",
              "      <td>1259.985563</td>\n",
              "    </tr>\n",
              "    <tr>\n",
              "      <th>1</th>\n",
              "      <td>2</td>\n",
              "      <td>2008-03-01 01:00:00</td>\n",
              "      <td>1095.541500</td>\n",
              "    </tr>\n",
              "    <tr>\n",
              "      <th>2</th>\n",
              "      <td>3</td>\n",
              "      <td>2008-03-01 02:00:00</td>\n",
              "      <td>1056.247500</td>\n",
              "    </tr>\n",
              "    <tr>\n",
              "      <th>3</th>\n",
              "      <td>4</td>\n",
              "      <td>2008-03-01 03:00:00</td>\n",
              "      <td>1034.742000</td>\n",
              "    </tr>\n",
              "    <tr>\n",
              "      <th>4</th>\n",
              "      <td>5</td>\n",
              "      <td>2008-03-01 04:00:00</td>\n",
              "      <td>1026.334500</td>\n",
              "    </tr>\n",
              "  </tbody>\n",
              "</table>\n",
              "</div>\n",
              "      <button class=\"colab-df-convert\" onclick=\"convertToInteractive('df-6d74b050-73c0-4c1f-b269-792aa05acff3')\"\n",
              "              title=\"Convert this dataframe to an interactive table.\"\n",
              "              style=\"display:none;\">\n",
              "        \n",
              "  <svg xmlns=\"http://www.w3.org/2000/svg\" height=\"24px\"viewBox=\"0 0 24 24\"\n",
              "       width=\"24px\">\n",
              "    <path d=\"M0 0h24v24H0V0z\" fill=\"none\"/>\n",
              "    <path d=\"M18.56 5.44l.94 2.06.94-2.06 2.06-.94-2.06-.94-.94-2.06-.94 2.06-2.06.94zm-11 1L8.5 8.5l.94-2.06 2.06-.94-2.06-.94L8.5 2.5l-.94 2.06-2.06.94zm10 10l.94 2.06.94-2.06 2.06-.94-2.06-.94-.94-2.06-.94 2.06-2.06.94z\"/><path d=\"M17.41 7.96l-1.37-1.37c-.4-.4-.92-.59-1.43-.59-.52 0-1.04.2-1.43.59L10.3 9.45l-7.72 7.72c-.78.78-.78 2.05 0 2.83L4 21.41c.39.39.9.59 1.41.59.51 0 1.02-.2 1.41-.59l7.78-7.78 2.81-2.81c.8-.78.8-2.07 0-2.86zM5.41 20L4 18.59l7.72-7.72 1.47 1.35L5.41 20z\"/>\n",
              "  </svg>\n",
              "      </button>\n",
              "      \n",
              "  <style>\n",
              "    .colab-df-container {\n",
              "      display:flex;\n",
              "      flex-wrap:wrap;\n",
              "      gap: 12px;\n",
              "    }\n",
              "\n",
              "    .colab-df-convert {\n",
              "      background-color: #E8F0FE;\n",
              "      border: none;\n",
              "      border-radius: 50%;\n",
              "      cursor: pointer;\n",
              "      display: none;\n",
              "      fill: #1967D2;\n",
              "      height: 32px;\n",
              "      padding: 0 0 0 0;\n",
              "      width: 32px;\n",
              "    }\n",
              "\n",
              "    .colab-df-convert:hover {\n",
              "      background-color: #E2EBFA;\n",
              "      box-shadow: 0px 1px 2px rgba(60, 64, 67, 0.3), 0px 1px 3px 1px rgba(60, 64, 67, 0.15);\n",
              "      fill: #174EA6;\n",
              "    }\n",
              "\n",
              "    [theme=dark] .colab-df-convert {\n",
              "      background-color: #3B4455;\n",
              "      fill: #D2E3FC;\n",
              "    }\n",
              "\n",
              "    [theme=dark] .colab-df-convert:hover {\n",
              "      background-color: #434B5C;\n",
              "      box-shadow: 0px 1px 3px 1px rgba(0, 0, 0, 0.15);\n",
              "      filter: drop-shadow(0px 1px 2px rgba(0, 0, 0, 0.3));\n",
              "      fill: #FFFFFF;\n",
              "    }\n",
              "  </style>\n",
              "\n",
              "      <script>\n",
              "        const buttonEl =\n",
              "          document.querySelector('#df-6d74b050-73c0-4c1f-b269-792aa05acff3 button.colab-df-convert');\n",
              "        buttonEl.style.display =\n",
              "          google.colab.kernel.accessAllowed ? 'block' : 'none';\n",
              "\n",
              "        async function convertToInteractive(key) {\n",
              "          const element = document.querySelector('#df-6d74b050-73c0-4c1f-b269-792aa05acff3');\n",
              "          const dataTable =\n",
              "            await google.colab.kernel.invokeFunction('convertToInteractive',\n",
              "                                                     [key], {});\n",
              "          if (!dataTable) return;\n",
              "\n",
              "          const docLinkHtml = 'Like what you see? Visit the ' +\n",
              "            '<a target=\"_blank\" href=https://colab.research.google.com/notebooks/data_table.ipynb>data table notebook</a>'\n",
              "            + ' to learn more about interactive tables.';\n",
              "          element.innerHTML = '';\n",
              "          dataTable['output_type'] = 'display_data';\n",
              "          await google.colab.output.renderOutput(dataTable, element);\n",
              "          const docLink = document.createElement('div');\n",
              "          docLink.innerHTML = docLinkHtml;\n",
              "          element.appendChild(docLink);\n",
              "        }\n",
              "      </script>\n",
              "    </div>\n",
              "  </div>\n",
              "  "
            ]
          },
          "metadata": {},
          "execution_count": 11
        }
      ],
      "source": [
        "dftrain.head()"
      ]
    },
    {
      "cell_type": "code",
      "execution_count": 12,
      "metadata": {
        "colab": {
          "base_uri": "https://localhost:8080/",
          "height": 206
        },
        "id": "USiKCd-L1nJk",
        "outputId": "b2c0c465-a4f7-44b0-e1f4-9844dc7f2df2"
      },
      "outputs": [
        {
          "output_type": "execute_result",
          "data": {
            "text/plain": [
              "   row_id             datetime\n",
              "0   94993  2019-01-01 00:00:00\n",
              "1   94994  2019-01-01 01:00:00\n",
              "2   94995  2019-01-01 02:00:00\n",
              "3   94996  2019-01-01 03:00:00\n",
              "4   94997  2019-01-01 04:00:00"
            ],
            "text/html": [
              "\n",
              "  <div id=\"df-710423b6-8299-489e-aeab-68e64129aae2\">\n",
              "    <div class=\"colab-df-container\">\n",
              "      <div>\n",
              "<style scoped>\n",
              "    .dataframe tbody tr th:only-of-type {\n",
              "        vertical-align: middle;\n",
              "    }\n",
              "\n",
              "    .dataframe tbody tr th {\n",
              "        vertical-align: top;\n",
              "    }\n",
              "\n",
              "    .dataframe thead th {\n",
              "        text-align: right;\n",
              "    }\n",
              "</style>\n",
              "<table border=\"1\" class=\"dataframe\">\n",
              "  <thead>\n",
              "    <tr style=\"text-align: right;\">\n",
              "      <th></th>\n",
              "      <th>row_id</th>\n",
              "      <th>datetime</th>\n",
              "    </tr>\n",
              "  </thead>\n",
              "  <tbody>\n",
              "    <tr>\n",
              "      <th>0</th>\n",
              "      <td>94993</td>\n",
              "      <td>2019-01-01 00:00:00</td>\n",
              "    </tr>\n",
              "    <tr>\n",
              "      <th>1</th>\n",
              "      <td>94994</td>\n",
              "      <td>2019-01-01 01:00:00</td>\n",
              "    </tr>\n",
              "    <tr>\n",
              "      <th>2</th>\n",
              "      <td>94995</td>\n",
              "      <td>2019-01-01 02:00:00</td>\n",
              "    </tr>\n",
              "    <tr>\n",
              "      <th>3</th>\n",
              "      <td>94996</td>\n",
              "      <td>2019-01-01 03:00:00</td>\n",
              "    </tr>\n",
              "    <tr>\n",
              "      <th>4</th>\n",
              "      <td>94997</td>\n",
              "      <td>2019-01-01 04:00:00</td>\n",
              "    </tr>\n",
              "  </tbody>\n",
              "</table>\n",
              "</div>\n",
              "      <button class=\"colab-df-convert\" onclick=\"convertToInteractive('df-710423b6-8299-489e-aeab-68e64129aae2')\"\n",
              "              title=\"Convert this dataframe to an interactive table.\"\n",
              "              style=\"display:none;\">\n",
              "        \n",
              "  <svg xmlns=\"http://www.w3.org/2000/svg\" height=\"24px\"viewBox=\"0 0 24 24\"\n",
              "       width=\"24px\">\n",
              "    <path d=\"M0 0h24v24H0V0z\" fill=\"none\"/>\n",
              "    <path d=\"M18.56 5.44l.94 2.06.94-2.06 2.06-.94-2.06-.94-.94-2.06-.94 2.06-2.06.94zm-11 1L8.5 8.5l.94-2.06 2.06-.94-2.06-.94L8.5 2.5l-.94 2.06-2.06.94zm10 10l.94 2.06.94-2.06 2.06-.94-2.06-.94-.94-2.06-.94 2.06-2.06.94z\"/><path d=\"M17.41 7.96l-1.37-1.37c-.4-.4-.92-.59-1.43-.59-.52 0-1.04.2-1.43.59L10.3 9.45l-7.72 7.72c-.78.78-.78 2.05 0 2.83L4 21.41c.39.39.9.59 1.41.59.51 0 1.02-.2 1.41-.59l7.78-7.78 2.81-2.81c.8-.78.8-2.07 0-2.86zM5.41 20L4 18.59l7.72-7.72 1.47 1.35L5.41 20z\"/>\n",
              "  </svg>\n",
              "      </button>\n",
              "      \n",
              "  <style>\n",
              "    .colab-df-container {\n",
              "      display:flex;\n",
              "      flex-wrap:wrap;\n",
              "      gap: 12px;\n",
              "    }\n",
              "\n",
              "    .colab-df-convert {\n",
              "      background-color: #E8F0FE;\n",
              "      border: none;\n",
              "      border-radius: 50%;\n",
              "      cursor: pointer;\n",
              "      display: none;\n",
              "      fill: #1967D2;\n",
              "      height: 32px;\n",
              "      padding: 0 0 0 0;\n",
              "      width: 32px;\n",
              "    }\n",
              "\n",
              "    .colab-df-convert:hover {\n",
              "      background-color: #E2EBFA;\n",
              "      box-shadow: 0px 1px 2px rgba(60, 64, 67, 0.3), 0px 1px 3px 1px rgba(60, 64, 67, 0.15);\n",
              "      fill: #174EA6;\n",
              "    }\n",
              "\n",
              "    [theme=dark] .colab-df-convert {\n",
              "      background-color: #3B4455;\n",
              "      fill: #D2E3FC;\n",
              "    }\n",
              "\n",
              "    [theme=dark] .colab-df-convert:hover {\n",
              "      background-color: #434B5C;\n",
              "      box-shadow: 0px 1px 3px 1px rgba(0, 0, 0, 0.15);\n",
              "      filter: drop-shadow(0px 1px 2px rgba(0, 0, 0, 0.3));\n",
              "      fill: #FFFFFF;\n",
              "    }\n",
              "  </style>\n",
              "\n",
              "      <script>\n",
              "        const buttonEl =\n",
              "          document.querySelector('#df-710423b6-8299-489e-aeab-68e64129aae2 button.colab-df-convert');\n",
              "        buttonEl.style.display =\n",
              "          google.colab.kernel.accessAllowed ? 'block' : 'none';\n",
              "\n",
              "        async function convertToInteractive(key) {\n",
              "          const element = document.querySelector('#df-710423b6-8299-489e-aeab-68e64129aae2');\n",
              "          const dataTable =\n",
              "            await google.colab.kernel.invokeFunction('convertToInteractive',\n",
              "                                                     [key], {});\n",
              "          if (!dataTable) return;\n",
              "\n",
              "          const docLinkHtml = 'Like what you see? Visit the ' +\n",
              "            '<a target=\"_blank\" href=https://colab.research.google.com/notebooks/data_table.ipynb>data table notebook</a>'\n",
              "            + ' to learn more about interactive tables.';\n",
              "          element.innerHTML = '';\n",
              "          dataTable['output_type'] = 'display_data';\n",
              "          await google.colab.output.renderOutput(dataTable, element);\n",
              "          const docLink = document.createElement('div');\n",
              "          docLink.innerHTML = docLinkHtml;\n",
              "          element.appendChild(docLink);\n",
              "        }\n",
              "      </script>\n",
              "    </div>\n",
              "  </div>\n",
              "  "
            ]
          },
          "metadata": {},
          "execution_count": 12
        }
      ],
      "source": [
        "dftest.head()"
      ]
    },
    {
      "cell_type": "markdown",
      "metadata": {
        "id": "PRiaVDd_5Bfj"
      },
      "source": [
        "## Exploratory Data Analysis"
      ]
    },
    {
      "cell_type": "code",
      "execution_count": 13,
      "metadata": {
        "colab": {
          "base_uri": "https://localhost:8080/"
        },
        "id": "ZCrmd8ar5HjV",
        "outputId": "2bdb7b65-dbb4-45a1-ca6f-3a992c2d82fe"
      },
      "outputs": [
        {
          "output_type": "execute_result",
          "data": {
            "text/plain": [
              "((94992, 3), (26304, 2))"
            ]
          },
          "metadata": {},
          "execution_count": 13
        }
      ],
      "source": [
        "dftrain.shape,dftest.shape"
      ]
    },
    {
      "cell_type": "code",
      "execution_count": 14,
      "metadata": {
        "colab": {
          "base_uri": "https://localhost:8080/"
        },
        "id": "dReWBrwI5QoC",
        "outputId": "3388f2ea-5518-42d2-eb19-7aa09aeb5552"
      },
      "outputs": [
        {
          "output_type": "stream",
          "name": "stdout",
          "text": [
            "<class 'pandas.core.frame.DataFrame'>\n",
            "RangeIndex: 94992 entries, 0 to 94991\n",
            "Data columns (total 3 columns):\n",
            " #   Column    Non-Null Count  Dtype  \n",
            "---  ------    --------------  -----  \n",
            " 0   row_id    94992 non-null  int64  \n",
            " 1   datetime  94992 non-null  object \n",
            " 2   energy    93092 non-null  float64\n",
            "dtypes: float64(1), int64(1), object(1)\n",
            "memory usage: 2.2+ MB\n",
            "\n",
            "===================\n",
            "\n",
            "<class 'pandas.core.frame.DataFrame'>\n",
            "RangeIndex: 26304 entries, 0 to 26303\n",
            "Data columns (total 2 columns):\n",
            " #   Column    Non-Null Count  Dtype \n",
            "---  ------    --------------  ----- \n",
            " 0   row_id    26304 non-null  int64 \n",
            " 1   datetime  26304 non-null  object\n",
            "dtypes: int64(1), object(1)\n",
            "memory usage: 411.1+ KB\n"
          ]
        }
      ],
      "source": [
        "dftrain.info(),\n",
        "print('\\n===================\\n')\n",
        "dftest.info()"
      ]
    },
    {
      "cell_type": "code",
      "execution_count": 15,
      "metadata": {
        "colab": {
          "base_uri": "https://localhost:8080/"
        },
        "id": "Z8HyhgWa7qYB",
        "outputId": "a2c14399-d0be-4079-effc-d3cb48aeff56"
      },
      "outputs": [
        {
          "output_type": "stream",
          "name": "stdout",
          "text": [
            "row_id         0\n",
            "datetime       0\n",
            "energy      1900\n",
            "dtype: int64\n",
            "==================\n"
          ]
        },
        {
          "output_type": "execute_result",
          "data": {
            "text/plain": [
              "row_id      0\n",
              "datetime    0\n",
              "dtype: int64"
            ]
          },
          "metadata": {},
          "execution_count": 15
        }
      ],
      "source": [
        "print(dftrain.isna().sum()),\n",
        "print('==================')\n",
        "dftest.isna().sum()"
      ]
    },
    {
      "cell_type": "markdown",
      "metadata": {
        "id": "F2NS7A7-sw8L"
      },
      "source": [
        "## Data Cleaning"
      ]
    },
    {
      "cell_type": "code",
      "execution_count": 16,
      "metadata": {
        "colab": {
          "base_uri": "https://localhost:8080/"
        },
        "id": "gRy54gzSs3eU",
        "outputId": "da439a19-dc6f-4ba6-9919-e04451f189bc"
      },
      "outputs": [
        {
          "output_type": "execute_result",
          "data": {
            "text/plain": [
              "(94992, 3)"
            ]
          },
          "metadata": {},
          "execution_count": 16
        }
      ],
      "source": [
        "dftrain = dftrain.fillna(dftrain.interpolate())\n",
        "dftrain.shape"
      ]
    },
    {
      "cell_type": "markdown",
      "metadata": {
        "id": "8nAQAM0Q8UN5"
      },
      "source": [
        "## Feature Engineering\n"
      ]
    },
    {
      "cell_type": "markdown",
      "metadata": {
        "id": "Kq0h8v9jqDEv"
      },
      "source": [
        "Covert the datetime columns of the dataframes to datetime objects\n"
      ]
    },
    {
      "cell_type": "code",
      "execution_count": 17,
      "metadata": {
        "id": "BmOGD5GcqJ4T"
      },
      "outputs": [],
      "source": [
        "dftrain.datetime = pd.to_datetime(dftrain.datetime)\n",
        "dftest.datetime = pd.to_datetime(dftest.datetime)"
      ]
    },
    {
      "cell_type": "markdown",
      "metadata": {
        "id": "itEHOBX76peX"
      },
      "source": [
        "Make copies of the dataframes\n"
      ]
    },
    {
      "cell_type": "code",
      "execution_count": 18,
      "metadata": {
        "id": "ddONxfuF6ulz"
      },
      "outputs": [],
      "source": [
        "df_train = dftrain.copy()\n",
        "df_test = dftest.copy()"
      ]
    },
    {
      "cell_type": "markdown",
      "metadata": {
        "id": "BMZGGWdnpUTI"
      },
      "source": [
        "Temporarily drop row_id column from copied datafrmes"
      ]
    },
    {
      "cell_type": "code",
      "execution_count": 19,
      "metadata": {
        "id": "7BMD3IAippUp"
      },
      "outputs": [],
      "source": [
        "df_train = df_train.drop('row_id', axis = 1)\n",
        "df_test = df_test.drop('row_id', axis = 1)"
      ]
    },
    {
      "cell_type": "markdown",
      "metadata": {
        "id": "uPlkw_kF1olZ"
      },
      "source": [
        "Set datetime column as index"
      ]
    },
    {
      "cell_type": "code",
      "execution_count": 20,
      "metadata": {
        "id": "4AitQoBU1oUl"
      },
      "outputs": [],
      "source": [
        "df_train = df_train.set_index('datetime')\n",
        "df_test = df_test.set_index('datetime')"
      ]
    },
    {
      "cell_type": "markdown",
      "metadata": {
        "id": "OPQINTZOsbWm"
      },
      "source": [
        "Energy evolution"
      ]
    },
    {
      "cell_type": "code",
      "execution_count": 21,
      "metadata": {
        "colab": {
          "base_uri": "https://localhost:8080/",
          "height": 351
        },
        "id": "wZ53rurUrY4t",
        "outputId": "2c712044-8119-4fe2-db3e-ca4851d5aac4"
      },
      "outputs": [
        {
          "output_type": "execute_result",
          "data": {
            "text/plain": [
              "<matplotlib.axes._subplots.AxesSubplot at 0x7f8821250400>"
            ]
          },
          "metadata": {},
          "execution_count": 21
        },
        {
          "output_type": "display_data",
          "data": {
            "text/plain": [
              "<Figure size 1440x360 with 1 Axes>"
            ],
            "image/png": "[encoded data removed]"
          },
          "metadata": {
            "needs_background": "light"
          }
        }
      ],
      "source": [
        "df_train.plot(figsize=(20,5))"
      ]
    },
    {
      "cell_type": "markdown",
      "metadata": {
        "id": "6kbjI7wBtKVV"
      },
      "source": [
        "Autotorelation"
      ]
    },
    {
      "cell_type": "code",
      "execution_count": 22,
      "metadata": {
        "colab": {
          "base_uri": "https://localhost:8080/",
          "height": 545
        },
        "id": "kss-DJvlrr0S",
        "outputId": "3ec54042-031c-46e9-b019-304d98de2a8f"
      },
      "outputs": [
        {
          "output_type": "execute_result",
          "data": {
            "text/plain": [
              "<Figure size 432x288 with 1 Axes>"
            ],
            "image/png": "[encoded data removed]"
          },
          "metadata": {},
          "execution_count": 22
        },
        {
          "output_type": "display_data",
          "data": {
            "text/plain": [
              "<Figure size 432x288 with 1 Axes>"
            ],
            "image/png": "[encoded data removed]"
          },
          "metadata": {
            "needs_background": "light"
          }
        }
      ],
      "source": [
        "plot_acf(df_train)\n"
      ]
    },
    {
      "cell_type": "markdown",
      "metadata": {
        "id": "vhJRjOGitYhE"
      },
      "source": [
        "Partial autotorelation"
      ]
    },
    {
      "cell_type": "code",
      "execution_count": 23,
      "metadata": {
        "colab": {
          "base_uri": "https://localhost:8080/",
          "height": 545
        },
        "id": "1BIZ1qxGrx2l",
        "outputId": "e397403c-360b-49de-a211-664905b6b1ea"
      },
      "outputs": [
        {
          "output_type": "execute_result",
          "data": {
            "text/plain": [
              "<Figure size 432x288 with 1 Axes>"
            ],
            "image/png": "[encoded data removed]"
          },
          "metadata": {},
          "execution_count": 23
        },
        {
          "output_type": "display_data",
          "data": {
            "text/plain": [
              "<Figure size 432x288 with 1 Axes>"
            ],
            "image/png": "[encoded data removed]"
          },
          "metadata": {
            "needs_background": "light"
          }
        }
      ],
      "source": [
        "plot_pacf(df_train)\n"
      ]
    },
    {
      "cell_type": "code",
      "execution_count": 24,
      "metadata": {
        "id": "mhUSaUwHqrVl"
      },
      "outputs": [],
      "source": [
        "df_test = dftest.copy()\n",
        "df_train = dftrain.copy()"
      ]
    },
    {
      "cell_type": "markdown",
      "metadata": {
        "id": "9nFv1_uya0Xf"
      },
      "source": [
        "Create more features from datetime"
      ]
    },
    {
      "cell_type": "code",
      "execution_count": 25,
      "metadata": {
        "id": "MgF4zrpWZLGA"
      },
      "outputs": [],
      "source": [
        "fe = FeatureEngineering_DateTime()\n",
        "\n",
        "fe.fit(df_train, datetime_variables=['datetime'], prefix = 'data ')\n",
        "df_train = fe.transform(df_train)\n",
        "\n",
        "fe.fit(df_test, datetime_variables=['datetime'], prefix = 'data ')\n",
        "df_test = fe.transform(df_test)\n"
      ]
    },
    {
      "cell_type": "markdown",
      "metadata": {
        "id": "x2iEW-BUboS4"
      },
      "source": [
        "Create columns in the **df_train** data"
      ]
    },
    {
      "cell_type": "code",
      "execution_count": 26,
      "metadata": {
        "id": "QlSZgvTWbBKV"
      },
      "outputs": [],
      "source": [
        "df_train[\"month_end\"] = df_train[\"data is_month_end\"].astype(int)\n",
        "df_train[\"month_start\"] = df_train[\"data is_month_start\"].astype(int)\n",
        "df_train[\"quarter_end\"] = df_train[\"data is_quarter_end\"].astype(int)\n",
        "df_train[\"quarter_start\"] = df_train[\"data is_quarter_start\"].astype(int)\n",
        "df_train[\"year_start\"] = df_train[\"data is_year_start\"].astype(int)\n",
        "df_train[\"year_end\"] = df_train[\"data is_year_end\"].astype(int)"
      ]
    },
    {
      "cell_type": "markdown",
      "metadata": {
        "id": "Upk6jTVx67yH"
      },
      "source": [
        "Create columns in the **df_test** data\n"
      ]
    },
    {
      "cell_type": "code",
      "execution_count": 27,
      "metadata": {
        "id": "t7R9pjaZZ0Kv"
      },
      "outputs": [],
      "source": [
        "df_test[\"month_end\"] = df_test[\"data is_month_end\"].astype(int)\n",
        "df_test[\"month_start\"] = df_test[\"data is_month_start\"].astype(int)\n",
        "df_test[\"quarter_end\"] = df_test[\"data is_quarter_end\"].astype(int)\n",
        "df_test[\"quarter_start\"] = df_test[\"data is_quarter_start\"].astype(int)\n",
        "df_test[\"year_start\"] = df_test[\"data is_year_start\"].astype(int)\n",
        "df_test[\"year_end\"] = df_test[\"data is_year_end\"].astype(int)"
      ]
    },
    {
      "cell_type": "markdown",
      "metadata": {
        "id": "f5zYheq_vNEj"
      },
      "source": [
        "Drop the unneeded columns from the dataframes\n"
      ]
    },
    {
      "cell_type": "code",
      "execution_count": 28,
      "metadata": {
        "id": "D4QcZS7GvMqo"
      },
      "outputs": [],
      "source": [
        "df_train = df_train[:len(df_train)].drop(['datetime','data day_part','data time'],axis=1)\n",
        "df_test = df_test[:len(df_test)].drop(['datetime','data day_part','data time'],axis=1)"
      ]
    },
    {
      "cell_type": "code",
      "execution_count": 29,
      "metadata": {
        "colab": {
          "base_uri": "https://localhost:8080/",
          "height": 317
        },
        "id": "fOzZIjWR2z39",
        "outputId": "6e7b2d92-0808-4d34-abb8-ab7d327c7e96"
      },
      "outputs": [
        {
          "output_type": "execute_result",
          "data": {
            "text/plain": [
              "   row_id       energy  data year  data quarter  data month  data day  \\\n",
              "0       1  1259.985563       2008             1           3         1   \n",
              "1       2  1095.541500       2008             1           3         1   \n",
              "2       3  1056.247500       2008             1           3         1   \n",
              "3       4  1034.742000       2008             1           3         1   \n",
              "4       5  1026.334500       2008             1           3         1   \n",
              "\n",
              "   data day_of_week  data day_of_year  data weekofyear  data is_month_end  \\\n",
              "0                 5                61                9              False   \n",
              "1                 5                61                9              False   \n",
              "2                 5                61                9              False   \n",
              "3                 5                61                9              False   \n",
              "4                 5                61                9              False   \n",
              "\n",
              "   ...  data hour  data minute  data second  data is_weekend  month_end  \\\n",
              "0  ...          0            0            0                1          0   \n",
              "1  ...          1            0            0                1          0   \n",
              "2  ...          2            0            0                1          0   \n",
              "3  ...          3            0            0                1          0   \n",
              "4  ...          4            0            0                1          0   \n",
              "\n",
              "   month_start  quarter_end  quarter_start  year_start  year_end  \n",
              "0            1            0              0           0         0  \n",
              "1            1            0              0           0         0  \n",
              "2            1            0              0           0         0  \n",
              "3            1            0              0           0         0  \n",
              "4            1            0              0           0         0  \n",
              "\n",
              "[5 rows x 25 columns]"
            ],
            "text/html": [
              "\n",
              "  <div id=\"df-9e1990c6-a285-4191-b96a-82856e7c0d17\">\n",
              "    <div class=\"colab-df-container\">\n",
              "      <div>\n",
              "<style scoped>\n",
              "    .dataframe tbody tr th:only-of-type {\n",
              "        vertical-align: middle;\n",
              "    }\n",
              "\n",
              "    .dataframe tbody tr th {\n",
              "        vertical-align: top;\n",
              "    }\n",
              "\n",
              "    .dataframe thead th {\n",
              "        text-align: right;\n",
              "    }\n",
              "</style>\n",
              "<table border=\"1\" class=\"dataframe\">\n",
              "  <thead>\n",
              "    <tr style=\"text-align: right;\">\n",
              "      <th></th>\n",
              "      <th>row_id</th>\n",
              "      <th>energy</th>\n",
              "      <th>data year</th>\n",
              "      <th>data quarter</th>\n",
              "      <th>data month</th>\n",
              "      <th>data day</th>\n",
              "      <th>data day_of_week</th>\n",
              "      <th>data day_of_year</th>\n",
              "      <th>data weekofyear</th>\n",
              "      <th>data is_month_end</th>\n",
              "      <th>...</th>\n",
              "      <th>data hour</th>\n",
              "      <th>data minute</th>\n",
              "      <th>data second</th>\n",
              "      <th>data is_weekend</th>\n",
              "      <th>month_end</th>\n",
              "      <th>month_start</th>\n",
              "      <th>quarter_end</th>\n",
              "      <th>quarter_start</th>\n",
              "      <th>year_start</th>\n",
              "      <th>year_end</th>\n",
              "    </tr>\n",
              "  </thead>\n",
              "  <tbody>\n",
              "    <tr>\n",
              "      <th>0</th>\n",
              "      <td>1</td>\n",
              "      <td>1259.985563</td>\n",
              "      <td>2008</td>\n",
              "      <td>1</td>\n",
              "      <td>3</td>\n",
              "      <td>1</td>\n",
              "      <td>5</td>\n",
              "      <td>61</td>\n",
              "      <td>9</td>\n",
              "      <td>False</td>\n",
              "      <td>...</td>\n",
              "      <td>0</td>\n",
              "      <td>0</td>\n",
              "      <td>0</td>\n",
              "      <td>1</td>\n",
              "      <td>0</td>\n",
              "      <td>1</td>\n",
              "      <td>0</td>\n",
              "      <td>0</td>\n",
              "      <td>0</td>\n",
              "      <td>0</td>\n",
              "    </tr>\n",
              "    <tr>\n",
              "      <th>1</th>\n",
              "      <td>2</td>\n",
              "      <td>1095.541500</td>\n",
              "      <td>2008</td>\n",
              "      <td>1</td>\n",
              "      <td>3</td>\n",
              "      <td>1</td>\n",
              "      <td>5</td>\n",
              "      <td>61</td>\n",
              "      <td>9</td>\n",
              "      <td>False</td>\n",
              "      <td>...</td>\n",
              "      <td>1</td>\n",
              "      <td>0</td>\n",
              "      <td>0</td>\n",
              "      <td>1</td>\n",
              "      <td>0</td>\n",
              "      <td>1</td>\n",
              "      <td>0</td>\n",
              "      <td>0</td>\n",
              "      <td>0</td>\n",
              "      <td>0</td>\n",
              "    </tr>\n",
              "    <tr>\n",
              "      <th>2</th>\n",
              "      <td>3</td>\n",
              "      <td>1056.247500</td>\n",
              "      <td>2008</td>\n",
              "      <td>1</td>\n",
              "      <td>3</td>\n",
              "      <td>1</td>\n",
              "      <td>5</td>\n",
              "      <td>61</td>\n",
              "      <td>9</td>\n",
              "      <td>False</td>\n",
              "      <td>...</td>\n",
              "      <td>2</td>\n",
              "      <td>0</td>\n",
              "      <td>0</td>\n",
              "      <td>1</td>\n",
              "      <td>0</td>\n",
              "      <td>1</td>\n",
              "      <td>0</td>\n",
              "      <td>0</td>\n",
              "      <td>0</td>\n",
              "      <td>0</td>\n",
              "    </tr>\n",
              "    <tr>\n",
              "      <th>3</th>\n",
              "      <td>4</td>\n",
              "      <td>1034.742000</td>\n",
              "      <td>2008</td>\n",
              "      <td>1</td>\n",
              "      <td>3</td>\n",
              "      <td>1</td>\n",
              "      <td>5</td>\n",
              "      <td>61</td>\n",
              "      <td>9</td>\n",
              "      <td>False</td>\n",
              "      <td>...</td>\n",
              "      <td>3</td>\n",
              "      <td>0</td>\n",
              "      <td>0</td>\n",
              "      <td>1</td>\n",
              "      <td>0</td>\n",
              "      <td>1</td>\n",
              "      <td>0</td>\n",
              "      <td>0</td>\n",
              "      <td>0</td>\n",
              "      <td>0</td>\n",
              "    </tr>\n",
              "    <tr>\n",
              "      <th>4</th>\n",
              "      <td>5</td>\n",
              "      <td>1026.334500</td>\n",
              "      <td>2008</td>\n",
              "      <td>1</td>\n",
              "      <td>3</td>\n",
              "      <td>1</td>\n",
              "      <td>5</td>\n",
              "      <td>61</td>\n",
              "      <td>9</td>\n",
              "      <td>False</td>\n",
              "      <td>...</td>\n",
              "      <td>4</td>\n",
              "      <td>0</td>\n",
              "      <td>0</td>\n",
              "      <td>1</td>\n",
              "      <td>0</td>\n",
              "      <td>1</td>\n",
              "      <td>0</td>\n",
              "      <td>0</td>\n",
              "      <td>0</td>\n",
              "      <td>0</td>\n",
              "    </tr>\n",
              "  </tbody>\n",
              "</table>\n",
              "<p>5 rows × 25 columns</p>\n",
              "</div>\n",
              "      <button class=\"colab-df-convert\" onclick=\"convertToInteractive('df-9e1990c6-a285-4191-b96a-82856e7c0d17')\"\n",
              "              title=\"Convert this dataframe to an interactive table.\"\n",
              "              style=\"display:none;\">\n",
              "        \n",
              "  <svg xmlns=\"http://www.w3.org/2000/svg\" height=\"24px\"viewBox=\"0 0 24 24\"\n",
              "       width=\"24px\">\n",
              "    <path d=\"M0 0h24v24H0V0z\" fill=\"none\"/>\n",
              "    <path d=\"M18.56 5.44l.94 2.06.94-2.06 2.06-.94-2.06-.94-.94-2.06-.94 2.06-2.06.94zm-11 1L8.5 8.5l.94-2.06 2.06-.94-2.06-.94L8.5 2.5l-.94 2.06-2.06.94zm10 10l.94 2.06.94-2.06 2.06-.94-2.06-.94-.94-2.06-.94 2.06-2.06.94z\"/><path d=\"M17.41 7.96l-1.37-1.37c-.4-.4-.92-.59-1.43-.59-.52 0-1.04.2-1.43.59L10.3 9.45l-7.72 7.72c-.78.78-.78 2.05 0 2.83L4 21.41c.39.39.9.59 1.41.59.51 0 1.02-.2 1.41-.59l7.78-7.78 2.81-2.81c.8-.78.8-2.07 0-2.86zM5.41 20L4 18.59l7.72-7.72 1.47 1.35L5.41 20z\"/>\n",
              "  </svg>\n",
              "      </button>\n",
              "      \n",
              "  <style>\n",
              "    .colab-df-container {\n",
              "      display:flex;\n",
              "      flex-wrap:wrap;\n",
              "      gap: 12px;\n",
              "    }\n",
              "\n",
              "    .colab-df-convert {\n",
              "      background-color: #E8F0FE;\n",
              "      border: none;\n",
              "      border-radius: 50%;\n",
              "      cursor: pointer;\n",
              "      display: none;\n",
              "      fill: #1967D2;\n",
              "      height: 32px;\n",
              "      padding: 0 0 0 0;\n",
              "      width: 32px;\n",
              "    }\n",
              "\n",
              "    .colab-df-convert:hover {\n",
              "      background-color: #E2EBFA;\n",
              "      box-shadow: 0px 1px 2px rgba(60, 64, 67, 0.3), 0px 1px 3px 1px rgba(60, 64, 67, 0.15);\n",
              "      fill: #174EA6;\n",
              "    }\n",
              "\n",
              "    [theme=dark] .colab-df-convert {\n",
              "      background-color: #3B4455;\n",
              "      fill: #D2E3FC;\n",
              "    }\n",
              "\n",
              "    [theme=dark] .colab-df-convert:hover {\n",
              "      background-color: #434B5C;\n",
              "      box-shadow: 0px 1px 3px 1px rgba(0, 0, 0, 0.15);\n",
              "      filter: drop-shadow(0px 1px 2px rgba(0, 0, 0, 0.3));\n",
              "      fill: #FFFFFF;\n",
              "    }\n",
              "  </style>\n",
              "\n",
              "      <script>\n",
              "        const buttonEl =\n",
              "          document.querySelector('#df-9e1990c6-a285-4191-b96a-82856e7c0d17 button.colab-df-convert');\n",
              "        buttonEl.style.display =\n",
              "          google.colab.kernel.accessAllowed ? 'block' : 'none';\n",
              "\n",
              "        async function convertToInteractive(key) {\n",
              "          const element = document.querySelector('#df-9e1990c6-a285-4191-b96a-82856e7c0d17');\n",
              "          const dataTable =\n",
              "            await google.colab.kernel.invokeFunction('convertToInteractive',\n",
              "                                                     [key], {});\n",
              "          if (!dataTable) return;\n",
              "\n",
              "          const docLinkHtml = 'Like what you see? Visit the ' +\n",
              "            '<a target=\"_blank\" href=https://colab.research.google.com/notebooks/data_table.ipynb>data table notebook</a>'\n",
              "            + ' to learn more about interactive tables.';\n",
              "          element.innerHTML = '';\n",
              "          dataTable['output_type'] = 'display_data';\n",
              "          await google.colab.output.renderOutput(dataTable, element);\n",
              "          const docLink = document.createElement('div');\n",
              "          docLink.innerHTML = docLinkHtml;\n",
              "          element.appendChild(docLink);\n",
              "        }\n",
              "      </script>\n",
              "    </div>\n",
              "  </div>\n",
              "  "
            ]
          },
          "metadata": {},
          "execution_count": 29
        }
      ],
      "source": [
        "df_train.head()"
      ]
    },
    {
      "cell_type": "code",
      "execution_count": 30,
      "metadata": {
        "colab": {
          "base_uri": "https://localhost:8080/",
          "height": 317
        },
        "id": "IEaE6GHH27KH",
        "outputId": "a1a96790-46cd-4b6b-8777-6df7f5199f51"
      },
      "outputs": [
        {
          "output_type": "execute_result",
          "data": {
            "text/plain": [
              "   row_id  data year  data quarter  data month  data day  data day_of_week  \\\n",
              "0   94993       2019             1           1         1                 1   \n",
              "1   94994       2019             1           1         1                 1   \n",
              "2   94995       2019             1           1         1                 1   \n",
              "3   94996       2019             1           1         1                 1   \n",
              "4   94997       2019             1           1         1                 1   \n",
              "\n",
              "   data day_of_year  data weekofyear  data is_month_end  data is_month_start  \\\n",
              "0                 1                1              False                 True   \n",
              "1                 1                1              False                 True   \n",
              "2                 1                1              False                 True   \n",
              "3                 1                1              False                 True   \n",
              "4                 1                1              False                 True   \n",
              "\n",
              "   ...  data hour  data minute  data second  data is_weekend  month_end  \\\n",
              "0  ...          0            0            0                0          0   \n",
              "1  ...          1            0            0                0          0   \n",
              "2  ...          2            0            0                0          0   \n",
              "3  ...          3            0            0                0          0   \n",
              "4  ...          4            0            0                0          0   \n",
              "\n",
              "   month_start  quarter_end  quarter_start  year_start  year_end  \n",
              "0            1            0              1           1         0  \n",
              "1            1            0              1           1         0  \n",
              "2            1            0              1           1         0  \n",
              "3            1            0              1           1         0  \n",
              "4            1            0              1           1         0  \n",
              "\n",
              "[5 rows x 24 columns]"
            ],
            "text/html": [
              "\n",
              "  <div id=\"df-0dbf7f0c-5e55-4bf3-9493-31c018e17e43\">\n",
              "    <div class=\"colab-df-container\">\n",
              "      <div>\n",
              "<style scoped>\n",
              "    .dataframe tbody tr th:only-of-type {\n",
              "        vertical-align: middle;\n",
              "    }\n",
              "\n",
              "    .dataframe tbody tr th {\n",
              "        vertical-align: top;\n",
              "    }\n",
              "\n",
              "    .dataframe thead th {\n",
              "        text-align: right;\n",
              "    }\n",
              "</style>\n",
              "<table border=\"1\" class=\"dataframe\">\n",
              "  <thead>\n",
              "    <tr style=\"text-align: right;\">\n",
              "      <th></th>\n",
              "      <th>row_id</th>\n",
              "      <th>data year</th>\n",
              "      <th>data quarter</th>\n",
              "      <th>data month</th>\n",
              "      <th>data day</th>\n",
              "      <th>data day_of_week</th>\n",
              "      <th>data day_of_year</th>\n",
              "      <th>data weekofyear</th>\n",
              "      <th>data is_month_end</th>\n",
              "      <th>data is_month_start</th>\n",
              "      <th>...</th>\n",
              "      <th>data hour</th>\n",
              "      <th>data minute</th>\n",
              "      <th>data second</th>\n",
              "      <th>data is_weekend</th>\n",
              "      <th>month_end</th>\n",
              "      <th>month_start</th>\n",
              "      <th>quarter_end</th>\n",
              "      <th>quarter_start</th>\n",
              "      <th>year_start</th>\n",
              "      <th>year_end</th>\n",
              "    </tr>\n",
              "  </thead>\n",
              "  <tbody>\n",
              "    <tr>\n",
              "      <th>0</th>\n",
              "      <td>94993</td>\n",
              "      <td>2019</td>\n",
              "      <td>1</td>\n",
              "      <td>1</td>\n",
              "      <td>1</td>\n",
              "      <td>1</td>\n",
              "      <td>1</td>\n",
              "      <td>1</td>\n",
              "      <td>False</td>\n",
              "      <td>True</td>\n",
              "      <td>...</td>\n",
              "      <td>0</td>\n",
              "      <td>0</td>\n",
              "      <td>0</td>\n",
              "      <td>0</td>\n",
              "      <td>0</td>\n",
              "      <td>1</td>\n",
              "      <td>0</td>\n",
              "      <td>1</td>\n",
              "      <td>1</td>\n",
              "      <td>0</td>\n",
              "    </tr>\n",
              "    <tr>\n",
              "      <th>1</th>\n",
              "      <td>94994</td>\n",
              "      <td>2019</td>\n",
              "      <td>1</td>\n",
              "      <td>1</td>\n",
              "      <td>1</td>\n",
              "      <td>1</td>\n",
              "      <td>1</td>\n",
              "      <td>1</td>\n",
              "      <td>False</td>\n",
              "      <td>True</td>\n",
              "      <td>...</td>\n",
              "      <td>1</td>\n",
              "      <td>0</td>\n",
              "      <td>0</td>\n",
              "      <td>0</td>\n",
              "      <td>0</td>\n",
              "      <td>1</td>\n",
              "      <td>0</td>\n",
              "      <td>1</td>\n",
              "      <td>1</td>\n",
              "      <td>0</td>\n",
              "    </tr>\n",
              "    <tr>\n",
              "      <th>2</th>\n",
              "      <td>94995</td>\n",
              "      <td>2019</td>\n",
              "      <td>1</td>\n",
              "      <td>1</td>\n",
              "      <td>1</td>\n",
              "      <td>1</td>\n",
              "      <td>1</td>\n",
              "      <td>1</td>\n",
              "      <td>False</td>\n",
              "      <td>True</td>\n",
              "      <td>...</td>\n",
              "      <td>2</td>\n",
              "      <td>0</td>\n",
              "      <td>0</td>\n",
              "      <td>0</td>\n",
              "      <td>0</td>\n",
              "      <td>1</td>\n",
              "      <td>0</td>\n",
              "      <td>1</td>\n",
              "      <td>1</td>\n",
              "      <td>0</td>\n",
              "    </tr>\n",
              "    <tr>\n",
              "      <th>3</th>\n",
              "      <td>94996</td>\n",
              "      <td>2019</td>\n",
              "      <td>1</td>\n",
              "      <td>1</td>\n",
              "      <td>1</td>\n",
              "      <td>1</td>\n",
              "      <td>1</td>\n",
              "      <td>1</td>\n",
              "      <td>False</td>\n",
              "      <td>True</td>\n",
              "      <td>...</td>\n",
              "      <td>3</td>\n",
              "      <td>0</td>\n",
              "      <td>0</td>\n",
              "      <td>0</td>\n",
              "      <td>0</td>\n",
              "      <td>1</td>\n",
              "      <td>0</td>\n",
              "      <td>1</td>\n",
              "      <td>1</td>\n",
              "      <td>0</td>\n",
              "    </tr>\n",
              "    <tr>\n",
              "      <th>4</th>\n",
              "      <td>94997</td>\n",
              "      <td>2019</td>\n",
              "      <td>1</td>\n",
              "      <td>1</td>\n",
              "      <td>1</td>\n",
              "      <td>1</td>\n",
              "      <td>1</td>\n",
              "      <td>1</td>\n",
              "      <td>False</td>\n",
              "      <td>True</td>\n",
              "      <td>...</td>\n",
              "      <td>4</td>\n",
              "      <td>0</td>\n",
              "      <td>0</td>\n",
              "      <td>0</td>\n",
              "      <td>0</td>\n",
              "      <td>1</td>\n",
              "      <td>0</td>\n",
              "      <td>1</td>\n",
              "      <td>1</td>\n",
              "      <td>0</td>\n",
              "    </tr>\n",
              "  </tbody>\n",
              "</table>\n",
              "<p>5 rows × 24 columns</p>\n",
              "</div>\n",
              "      <button class=\"colab-df-convert\" onclick=\"convertToInteractive('df-0dbf7f0c-5e55-4bf3-9493-31c018e17e43')\"\n",
              "              title=\"Convert this dataframe to an interactive table.\"\n",
              "              style=\"display:none;\">\n",
              "        \n",
              "  <svg xmlns=\"http://www.w3.org/2000/svg\" height=\"24px\"viewBox=\"0 0 24 24\"\n",
              "       width=\"24px\">\n",
              "    <path d=\"M0 0h24v24H0V0z\" fill=\"none\"/>\n",
              "    <path d=\"M18.56 5.44l.94 2.06.94-2.06 2.06-.94-2.06-.94-.94-2.06-.94 2.06-2.06.94zm-11 1L8.5 8.5l.94-2.06 2.06-.94-2.06-.94L8.5 2.5l-.94 2.06-2.06.94zm10 10l.94 2.06.94-2.06 2.06-.94-2.06-.94-.94-2.06-.94 2.06-2.06.94z\"/><path d=\"M17.41 7.96l-1.37-1.37c-.4-.4-.92-.59-1.43-.59-.52 0-1.04.2-1.43.59L10.3 9.45l-7.72 7.72c-.78.78-.78 2.05 0 2.83L4 21.41c.39.39.9.59 1.41.59.51 0 1.02-.2 1.41-.59l7.78-7.78 2.81-2.81c.8-.78.8-2.07 0-2.86zM5.41 20L4 18.59l7.72-7.72 1.47 1.35L5.41 20z\"/>\n",
              "  </svg>\n",
              "      </button>\n",
              "      \n",
              "  <style>\n",
              "    .colab-df-container {\n",
              "      display:flex;\n",
              "      flex-wrap:wrap;\n",
              "      gap: 12px;\n",
              "    }\n",
              "\n",
              "    .colab-df-convert {\n",
              "      background-color: #E8F0FE;\n",
              "      border: none;\n",
              "      border-radius: 50%;\n",
              "      cursor: pointer;\n",
              "      display: none;\n",
              "      fill: #1967D2;\n",
              "      height: 32px;\n",
              "      padding: 0 0 0 0;\n",
              "      width: 32px;\n",
              "    }\n",
              "\n",
              "    .colab-df-convert:hover {\n",
              "      background-color: #E2EBFA;\n",
              "      box-shadow: 0px 1px 2px rgba(60, 64, 67, 0.3), 0px 1px 3px 1px rgba(60, 64, 67, 0.15);\n",
              "      fill: #174EA6;\n",
              "    }\n",
              "\n",
              "    [theme=dark] .colab-df-convert {\n",
              "      background-color: #3B4455;\n",
              "      fill: #D2E3FC;\n",
              "    }\n",
              "\n",
              "    [theme=dark] .colab-df-convert:hover {\n",
              "      background-color: #434B5C;\n",
              "      box-shadow: 0px 1px 3px 1px rgba(0, 0, 0, 0.15);\n",
              "      filter: drop-shadow(0px 1px 2px rgba(0, 0, 0, 0.3));\n",
              "      fill: #FFFFFF;\n",
              "    }\n",
              "  </style>\n",
              "\n",
              "      <script>\n",
              "        const buttonEl =\n",
              "          document.querySelector('#df-0dbf7f0c-5e55-4bf3-9493-31c018e17e43 button.colab-df-convert');\n",
              "        buttonEl.style.display =\n",
              "          google.colab.kernel.accessAllowed ? 'block' : 'none';\n",
              "\n",
              "        async function convertToInteractive(key) {\n",
              "          const element = document.querySelector('#df-0dbf7f0c-5e55-4bf3-9493-31c018e17e43');\n",
              "          const dataTable =\n",
              "            await google.colab.kernel.invokeFunction('convertToInteractive',\n",
              "                                                     [key], {});\n",
              "          if (!dataTable) return;\n",
              "\n",
              "          const docLinkHtml = 'Like what you see? Visit the ' +\n",
              "            '<a target=\"_blank\" href=https://colab.research.google.com/notebooks/data_table.ipynb>data table notebook</a>'\n",
              "            + ' to learn more about interactive tables.';\n",
              "          element.innerHTML = '';\n",
              "          dataTable['output_type'] = 'display_data';\n",
              "          await google.colab.output.renderOutput(dataTable, element);\n",
              "          const docLink = document.createElement('div');\n",
              "          docLink.innerHTML = docLinkHtml;\n",
              "          element.appendChild(docLink);\n",
              "        }\n",
              "      </script>\n",
              "    </div>\n",
              "  </div>\n",
              "  "
            ]
          },
          "metadata": {},
          "execution_count": 30
        }
      ],
      "source": [
        "df_test.head()"
      ]
    },
    {
      "cell_type": "markdown",
      "metadata": {
        "id": "0yscCKXoquKv"
      },
      "source": [
        "Reset index to row_id"
      ]
    },
    {
      "cell_type": "code",
      "execution_count": 31,
      "metadata": {
        "id": "N-PWME1Ww58M"
      },
      "outputs": [],
      "source": [
        "df_train = df_train.set_index('row_id')\n",
        "df_test = df_test.set_index('row_id')"
      ]
    },
    {
      "cell_type": "markdown",
      "metadata": {
        "id": "XEuFrDW23VQU"
      },
      "source": [
        "## Data Preprocessing\n",
        "Set the features and label"
      ]
    },
    {
      "cell_type": "code",
      "execution_count": 32,
      "metadata": {
        "id": "0uWshUkH3U2K"
      },
      "outputs": [],
      "source": [
        "# features\n",
        "X = df_train.drop('energy', axis=1)\n",
        "\n",
        "# label\n",
        "y = df_train[\"energy\"]"
      ]
    },
    {
      "cell_type": "markdown",
      "source": [
        "Scale the features"
      ],
      "metadata": {
        "id": "Z9qgsV9Fn32V"
      }
    },
    {
      "cell_type": "code",
      "execution_count": 33,
      "metadata": {
        "id": "5jgYsi8Igxso"
      },
      "outputs": [],
      "source": [
        "from sklearn.preprocessing import StandardScaler\n",
        "scaler=StandardScaler()\n",
        "X_scaled = scaler.fit_transform(X)\n",
        "test_scaled = scaler.transform(df_test)"
      ]
    },
    {
      "cell_type": "markdown",
      "metadata": {
        "id": "gSvPzNw63t0g"
      },
      "source": [
        "Split data into train and test sets\n"
      ]
    },
    {
      "cell_type": "code",
      "execution_count": 34,
      "metadata": {
        "id": "C3JPdLWp3rIC"
      },
      "outputs": [],
      "source": [
        "X_train, X_test, y_train, y_test = train_test_split(X_scaled, y, test_size=0.2, random_state=50)\n",
        "#print(X_train.shape, X_test.shape, y_train.shape, y_test.shape, test_scaled.shape)"
      ]
    },
    {
      "cell_type": "markdown",
      "metadata": {
        "id": "ZAo_PPSt4lnM"
      },
      "source": [
        "## Modeling\n",
        "CatBoost"
      ]
    },
    {
      "cell_type": "code",
      "execution_count": 38,
      "metadata": {
        "colab": {
          "base_uri": "https://localhost:8080/"
        },
        "id": "Xjl_iYWiygE8",
        "outputId": "7b7b587b-0c78-432c-8863-a59af163d416"
      },
      "outputs": [
        {
          "output_type": "stream",
          "name": "stdout",
          "text": [
            "\n",
            "bestTest = 254.7056718\n",
            "bestIteration = 99\n",
            "\n",
            "0:\tloss: 254.7056718\tbest: 254.7056718 (0)\ttotal: 738ms\tremaining: 1m 10s\n",
            "\n",
            "bestTest = 187.1859032\n",
            "bestIteration = 99\n",
            "\n",
            "1:\tloss: 187.1859032\tbest: 187.1859032 (1)\ttotal: 1.4s\tremaining: 1m 5s\n",
            "\n",
            "bestTest = 254.7086617\n",
            "bestIteration = 99\n",
            "\n",
            "2:\tloss: 254.7086617\tbest: 187.1859032 (1)\ttotal: 2.04s\tremaining: 1m 3s\n",
            "\n",
            "bestTest = 187.1490438\n",
            "bestIteration = 99\n",
            "\n",
            "3:\tloss: 187.1490438\tbest: 187.1490438 (3)\ttotal: 2.66s\tremaining: 1m 1s\n",
            "\n",
            "bestTest = 254.8282869\n",
            "bestIteration = 99\n",
            "\n",
            "4:\tloss: 254.8282869\tbest: 187.1490438 (3)\ttotal: 3.33s\tremaining: 1m\n",
            "\n",
            "bestTest = 187.1895645\n",
            "bestIteration = 99\n",
            "\n",
            "5:\tloss: 187.1895645\tbest: 187.1490438 (3)\ttotal: 3.96s\tremaining: 59.5s\n",
            "\n",
            "bestTest = 254.8479439\n",
            "bestIteration = 99\n",
            "\n",
            "6:\tloss: 254.8479439\tbest: 187.1490438 (3)\ttotal: 4.62s\tremaining: 58.8s\n",
            "\n",
            "bestTest = 187.1990692\n",
            "bestIteration = 99\n",
            "\n",
            "7:\tloss: 187.1990692\tbest: 187.1490438 (3)\ttotal: 5.78s\tremaining: 1m 3s\n",
            "\n",
            "bestTest = 223.0874023\n",
            "bestIteration = 149\n",
            "\n",
            "8:\tloss: 223.0874023\tbest: 187.1490438 (3)\ttotal: 7.55s\tremaining: 1m 12s\n",
            "\n",
            "bestTest = 175.0391755\n",
            "bestIteration = 149\n",
            "\n",
            "9:\tloss: 175.0391755\tbest: 175.0391755 (9)\ttotal: 8.47s\tremaining: 1m 12s\n",
            "\n",
            "bestTest = 223.0893105\n",
            "bestIteration = 149\n",
            "\n",
            "10:\tloss: 223.0893105\tbest: 175.0391755 (9)\ttotal: 9.39s\tremaining: 1m 12s\n",
            "\n",
            "bestTest = 174.6144952\n",
            "bestIteration = 149\n",
            "\n",
            "11:\tloss: 174.6144952\tbest: 174.6144952 (11)\ttotal: 10.3s\tremaining: 1m 12s\n",
            "\n",
            "bestTest = 223.3237401\n",
            "bestIteration = 149\n",
            "\n",
            "12:\tloss: 223.3237401\tbest: 174.6144952 (11)\ttotal: 11.3s\tremaining: 1m 12s\n",
            "\n",
            "bestTest = 174.7207394\n",
            "bestIteration = 149\n",
            "\n",
            "13:\tloss: 174.7207394\tbest: 174.6144952 (11)\ttotal: 12.2s\tremaining: 1m 11s\n",
            "\n",
            "bestTest = 223.3302254\n",
            "bestIteration = 149\n",
            "\n",
            "14:\tloss: 223.3302254\tbest: 174.6144952 (11)\ttotal: 13.2s\tremaining: 1m 11s\n",
            "\n",
            "bestTest = 174.7268849\n",
            "bestIteration = 149\n",
            "\n",
            "15:\tloss: 174.7268849\tbest: 174.6144952 (11)\ttotal: 14.1s\tremaining: 1m 10s\n",
            "\n",
            "bestTest = 208.4103982\n",
            "bestIteration = 199\n",
            "\n",
            "16:\tloss: 208.4103982\tbest: 174.6144952 (11)\ttotal: 15.3s\tremaining: 1m 11s\n",
            "\n",
            "bestTest = 167.5703601\n",
            "bestIteration = 199\n",
            "\n",
            "17:\tloss: 167.5703601\tbest: 167.5703601 (17)\ttotal: 16.6s\tremaining: 1m 11s\n",
            "\n",
            "bestTest = 208.4122938\n",
            "bestIteration = 199\n",
            "\n",
            "18:\tloss: 208.4122938\tbest: 167.5703601 (17)\ttotal: 18.2s\tremaining: 1m 13s\n",
            "\n",
            "bestTest = 167.6196703\n",
            "bestIteration = 199\n",
            "\n",
            "19:\tloss: 167.6196703\tbest: 167.5703601 (17)\ttotal: 20.4s\tremaining: 1m 17s\n",
            "\n",
            "bestTest = 208.3051901\n",
            "bestIteration = 199\n",
            "\n",
            "20:\tloss: 208.3051901\tbest: 167.5703601 (17)\ttotal: 21.7s\tremaining: 1m 17s\n",
            "\n",
            "bestTest = 167.614006\n",
            "bestIteration = 199\n",
            "\n",
            "21:\tloss: 167.6140060\tbest: 167.5703601 (17)\ttotal: 23s\tremaining: 1m 17s\n",
            "\n",
            "bestTest = 208.0357994\n",
            "bestIteration = 199\n",
            "\n",
            "22:\tloss: 208.0357994\tbest: 167.5703601 (17)\ttotal: 24.2s\tremaining: 1m 16s\n",
            "\n",
            "bestTest = 167.762347\n",
            "bestIteration = 199\n",
            "\n",
            "23:\tloss: 167.7623470\tbest: 167.5703601 (17)\ttotal: 25.5s\tremaining: 1m 16s\n",
            "\n",
            "bestTest = 221.0641372\n",
            "bestIteration = 99\n",
            "\n",
            "24:\tloss: 221.0641372\tbest: 167.5703601 (17)\ttotal: 26.3s\tremaining: 1m 14s\n",
            "\n",
            "bestTest = 154.4738239\n",
            "bestIteration = 99\n",
            "\n",
            "25:\tloss: 154.4738239\tbest: 154.4738239 (25)\ttotal: 27.2s\tremaining: 1m 13s\n",
            "\n",
            "bestTest = 221.4862342\n",
            "bestIteration = 99\n",
            "\n",
            "26:\tloss: 221.4862342\tbest: 154.4738239 (25)\ttotal: 28s\tremaining: 1m 11s\n",
            "\n",
            "bestTest = 154.6629847\n",
            "bestIteration = 99\n",
            "\n",
            "27:\tloss: 154.6629847\tbest: 154.4738239 (25)\ttotal: 28.8s\tremaining: 1m 9s\n",
            "\n",
            "bestTest = 221.0710873\n",
            "bestIteration = 99\n",
            "\n",
            "28:\tloss: 221.0710873\tbest: 154.4738239 (25)\ttotal: 29.6s\tremaining: 1m 8s\n",
            "\n",
            "bestTest = 154.0474979\n",
            "bestIteration = 99\n",
            "\n",
            "29:\tloss: 154.0474979\tbest: 154.0474979 (29)\ttotal: 30.7s\tremaining: 1m 7s\n",
            "\n",
            "bestTest = 221.2256046\n",
            "bestIteration = 99\n",
            "\n",
            "30:\tloss: 221.2256046\tbest: 154.0474979 (29)\ttotal: 32.4s\tremaining: 1m 7s\n",
            "\n",
            "bestTest = 154.5158683\n",
            "bestIteration = 99\n",
            "\n",
            "31:\tloss: 154.5158683\tbest: 154.0474979 (29)\ttotal: 34.1s\tremaining: 1m 8s\n",
            "\n",
            "bestTest = 183.5581492\n",
            "bestIteration = 149\n",
            "\n",
            "32:\tloss: 183.5581492\tbest: 154.0474979 (29)\ttotal: 36.9s\tremaining: 1m 10s\n",
            "\n",
            "bestTest = 145.944374\n",
            "bestIteration = 149\n",
            "\n",
            "33:\tloss: 145.9443740\tbest: 145.9443740 (33)\ttotal: 38.3s\tremaining: 1m 9s\n",
            "\n",
            "bestTest = 184.318418\n",
            "bestIteration = 149\n",
            "\n",
            "34:\tloss: 184.3184180\tbest: 145.9443740 (33)\ttotal: 39.6s\tremaining: 1m 9s\n",
            "\n",
            "bestTest = 145.4663978\n",
            "bestIteration = 149\n",
            "\n",
            "35:\tloss: 145.4663978\tbest: 145.4663978 (35)\ttotal: 40.8s\tremaining: 1m 8s\n",
            "\n",
            "bestTest = 183.6436659\n",
            "bestIteration = 149\n",
            "\n",
            "36:\tloss: 183.6436659\tbest: 145.4663978 (35)\ttotal: 42.1s\tremaining: 1m 7s\n",
            "\n",
            "bestTest = 144.4457818\n",
            "bestIteration = 149\n",
            "\n",
            "37:\tloss: 144.4457818\tbest: 144.4457818 (37)\ttotal: 43.3s\tremaining: 1m 6s\n",
            "\n",
            "bestTest = 183.4932862\n",
            "bestIteration = 149\n",
            "\n",
            "38:\tloss: 183.4932862\tbest: 144.4457818 (37)\ttotal: 45.7s\tremaining: 1m 6s\n",
            "\n",
            "bestTest = 145.3410782\n",
            "bestIteration = 149\n",
            "\n",
            "39:\tloss: 145.3410782\tbest: 144.4457818 (37)\ttotal: 47.2s\tremaining: 1m 6s\n",
            "\n",
            "bestTest = 171.1849714\n",
            "bestIteration = 199\n",
            "\n",
            "40:\tloss: 171.1849714\tbest: 144.4457818 (37)\ttotal: 48.9s\tremaining: 1m 5s\n",
            "\n",
            "bestTest = 139.2149832\n",
            "bestIteration = 199\n",
            "\n",
            "41:\tloss: 139.2149832\tbest: 139.2149832 (41)\ttotal: 50.5s\tremaining: 1m 4s\n",
            "\n",
            "bestTest = 171.2078641\n",
            "bestIteration = 199\n",
            "\n",
            "42:\tloss: 171.2078641\tbest: 139.2149832 (41)\ttotal: 52.1s\tremaining: 1m 4s\n",
            "\n",
            "bestTest = 138.3342988\n",
            "bestIteration = 199\n",
            "\n",
            "43:\tloss: 138.3342988\tbest: 138.3342988 (43)\ttotal: 53.8s\tremaining: 1m 3s\n",
            "\n",
            "bestTest = 170.9610695\n",
            "bestIteration = 199\n",
            "\n",
            "44:\tloss: 170.9610695\tbest: 138.3342988 (43)\ttotal: 55.6s\tremaining: 1m 2s\n",
            "\n",
            "bestTest = 137.9668053\n",
            "bestIteration = 199\n",
            "\n",
            "45:\tloss: 137.9668053\tbest: 137.9668053 (45)\ttotal: 1m\tremaining: 1m 5s\n",
            "\n",
            "bestTest = 171.1804047\n",
            "bestIteration = 199\n",
            "\n",
            "46:\tloss: 171.1804047\tbest: 137.9668053 (45)\ttotal: 1m 4s\tremaining: 1m 6s\n",
            "\n",
            "bestTest = 139.229073\n",
            "bestIteration = 199\n",
            "\n",
            "47:\tloss: 139.2290730\tbest: 137.9668053 (45)\ttotal: 1m 7s\tremaining: 1m 7s\n",
            "\n",
            "bestTest = 201.6289156\n",
            "bestIteration = 99\n",
            "\n",
            "48:\tloss: 201.6289156\tbest: 137.9668053 (45)\ttotal: 1m 9s\tremaining: 1m 6s\n",
            "\n",
            "bestTest = 139.8860076\n",
            "bestIteration = 99\n",
            "\n",
            "49:\tloss: 139.8860076\tbest: 137.9668053 (45)\ttotal: 1m 13s\tremaining: 1m 7s\n",
            "\n",
            "bestTest = 201.6749797\n",
            "bestIteration = 99\n",
            "\n",
            "50:\tloss: 201.6749797\tbest: 137.9668053 (45)\ttotal: 1m 14s\tremaining: 1m 5s\n",
            "\n",
            "bestTest = 139.3182255\n",
            "bestIteration = 99\n",
            "\n",
            "51:\tloss: 139.3182255\tbest: 137.9668053 (45)\ttotal: 1m 15s\tremaining: 1m 4s\n",
            "\n",
            "bestTest = 201.6832912\n",
            "bestIteration = 99\n",
            "\n",
            "52:\tloss: 201.6832912\tbest: 137.9668053 (45)\ttotal: 1m 16s\tremaining: 1m 2s\n",
            "\n",
            "bestTest = 140.0999467\n",
            "bestIteration = 99\n",
            "\n",
            "53:\tloss: 140.0999467\tbest: 137.9668053 (45)\ttotal: 1m 18s\tremaining: 1m\n",
            "\n",
            "bestTest = 201.6799603\n",
            "bestIteration = 99\n",
            "\n",
            "54:\tloss: 201.6799603\tbest: 137.9668053 (45)\ttotal: 1m 19s\tremaining: 59s\n",
            "\n",
            "bestTest = 139.8505314\n",
            "bestIteration = 99\n",
            "\n",
            "55:\tloss: 139.8505314\tbest: 137.9668053 (45)\ttotal: 1m 20s\tremaining: 57.3s\n",
            "\n",
            "bestTest = 165.7746557\n",
            "bestIteration = 149\n",
            "\n",
            "56:\tloss: 165.7746557\tbest: 137.9668053 (45)\ttotal: 1m 21s\tremaining: 56s\n",
            "\n",
            "bestTest = 129.8479687\n",
            "bestIteration = 149\n",
            "\n",
            "57:\tloss: 129.8479687\tbest: 129.8479687 (57)\ttotal: 1m 24s\tremaining: 55.5s\n",
            "\n",
            "bestTest = 165.6920176\n",
            "bestIteration = 149\n",
            "\n",
            "58:\tloss: 165.6920176\tbest: 129.8479687 (57)\ttotal: 1m 26s\tremaining: 54.3s\n",
            "\n",
            "bestTest = 129.4268864\n",
            "bestIteration = 149\n",
            "\n",
            "59:\tloss: 129.4268864\tbest: 129.4268864 (59)\ttotal: 1m 28s\tremaining: 52.9s\n",
            "\n",
            "bestTest = 165.1147206\n",
            "bestIteration = 149\n",
            "\n",
            "60:\tloss: 165.1147206\tbest: 129.4268864 (59)\ttotal: 1m 29s\tremaining: 51.5s\n",
            "\n",
            "bestTest = 130.1111737\n",
            "bestIteration = 149\n",
            "\n",
            "61:\tloss: 130.1111737\tbest: 129.4268864 (59)\ttotal: 1m 31s\tremaining: 50.2s\n",
            "\n",
            "bestTest = 165.7847481\n",
            "bestIteration = 149\n",
            "\n",
            "62:\tloss: 165.7847481\tbest: 129.4268864 (59)\ttotal: 1m 33s\tremaining: 48.8s\n",
            "\n",
            "bestTest = 129.4501378\n",
            "bestIteration = 149\n",
            "\n",
            "63:\tloss: 129.4501378\tbest: 129.4268864 (59)\ttotal: 1m 34s\tremaining: 47.4s\n",
            "\n",
            "bestTest = 154.5321203\n",
            "bestIteration = 199\n",
            "\n",
            "64:\tloss: 154.5321203\tbest: 129.4268864 (59)\ttotal: 1m 38s\tremaining: 46.8s\n",
            "\n",
            "bestTest = 122.869483\n",
            "bestIteration = 199\n",
            "\n",
            "65:\tloss: 122.8694830\tbest: 122.8694830 (65)\ttotal: 1m 40s\tremaining: 45.6s\n",
            "\n",
            "bestTest = 154.3235203\n",
            "bestIteration = 199\n",
            "\n",
            "66:\tloss: 154.3235203\tbest: 122.8694830 (65)\ttotal: 1m 42s\tremaining: 44.4s\n",
            "\n",
            "bestTest = 122.6108185\n",
            "bestIteration = 199\n",
            "\n",
            "67:\tloss: 122.6108185\tbest: 122.6108185 (67)\ttotal: 1m 44s\tremaining: 43.1s\n",
            "\n",
            "bestTest = 154.0113693\n",
            "bestIteration = 199\n",
            "\n",
            "68:\tloss: 154.0113693\tbest: 122.6108185 (67)\ttotal: 1m 46s\tremaining: 41.8s\n",
            "\n",
            "bestTest = 122.9705394\n",
            "bestIteration = 199\n",
            "\n",
            "69:\tloss: 122.9705394\tbest: 122.6108185 (67)\ttotal: 1m 50s\tremaining: 40.9s\n",
            "\n",
            "bestTest = 154.3851226\n",
            "bestIteration = 199\n",
            "\n",
            "70:\tloss: 154.3851226\tbest: 122.6108185 (67)\ttotal: 1m 52s\tremaining: 39.7s\n",
            "\n",
            "bestTest = 123.0236646\n",
            "bestIteration = 199\n",
            "\n",
            "71:\tloss: 123.0236646\tbest: 122.6108185 (67)\ttotal: 1m 54s\tremaining: 38.3s\n",
            "\n",
            "bestTest = 189.8551801\n",
            "bestIteration = 99\n",
            "\n",
            "72:\tloss: 189.8551801\tbest: 122.6108185 (67)\ttotal: 1m 56s\tremaining: 36.7s\n",
            "\n",
            "bestTest = 129.6952483\n",
            "bestIteration = 99\n",
            "\n",
            "73:\tloss: 129.6952483\tbest: 122.6108185 (67)\ttotal: 1m 57s\tremaining: 35.1s\n",
            "\n",
            "bestTest = 190.2229491\n",
            "bestIteration = 99\n",
            "\n",
            "74:\tloss: 190.2229491\tbest: 122.6108185 (67)\ttotal: 1m 59s\tremaining: 33.4s\n",
            "\n",
            "bestTest = 129.8490788\n",
            "bestIteration = 99\n",
            "\n",
            "75:\tloss: 129.8490788\tbest: 122.6108185 (67)\ttotal: 2m 1s\tremaining: 31.9s\n",
            "\n",
            "bestTest = 189.8725827\n",
            "bestIteration = 99\n",
            "\n",
            "76:\tloss: 189.8725827\tbest: 122.6108185 (67)\ttotal: 2m 3s\tremaining: 30.6s\n",
            "\n",
            "bestTest = 129.7891056\n",
            "bestIteration = 99\n",
            "\n",
            "77:\tloss: 129.7891056\tbest: 122.6108185 (67)\ttotal: 2m 5s\tremaining: 28.9s\n",
            "\n",
            "bestTest = 190.862732\n",
            "bestIteration = 99\n",
            "\n",
            "78:\tloss: 190.8627320\tbest: 122.6108185 (67)\ttotal: 2m 6s\tremaining: 27.3s\n",
            "\n",
            "bestTest = 130.2452145\n",
            "bestIteration = 99\n",
            "\n",
            "79:\tloss: 130.2452145\tbest: 122.6108185 (67)\ttotal: 2m 8s\tremaining: 25.7s\n",
            "\n",
            "bestTest = 154.4577627\n",
            "bestIteration = 149\n",
            "\n",
            "80:\tloss: 154.4577627\tbest: 122.6108185 (67)\ttotal: 2m 10s\tremaining: 24.2s\n",
            "\n",
            "bestTest = 117.3574004\n",
            "bestIteration = 149\n",
            "\n",
            "81:\tloss: 117.3574004\tbest: 117.3574004 (81)\ttotal: 2m 13s\tremaining: 22.7s\n",
            "\n",
            "bestTest = 154.2291701\n",
            "bestIteration = 149\n",
            "\n",
            "82:\tloss: 154.2291701\tbest: 117.3574004 (81)\ttotal: 2m 16s\tremaining: 21.4s\n",
            "\n",
            "bestTest = 117.3147403\n",
            "bestIteration = 149\n",
            "\n",
            "83:\tloss: 117.3147403\tbest: 117.3147403 (83)\ttotal: 2m 18s\tremaining: 19.9s\n",
            "\n",
            "bestTest = 154.0986671\n",
            "bestIteration = 149\n",
            "\n",
            "84:\tloss: 154.0986671\tbest: 117.3147403 (83)\ttotal: 2m 21s\tremaining: 18.3s\n",
            "\n",
            "bestTest = 117.5448261\n",
            "bestIteration = 149\n",
            "\n",
            "85:\tloss: 117.5448261\tbest: 117.3147403 (83)\ttotal: 2m 23s\tremaining: 16.7s\n",
            "\n",
            "bestTest = 154.8008901\n",
            "bestIteration = 149\n",
            "\n",
            "86:\tloss: 154.8008901\tbest: 117.3147403 (83)\ttotal: 2m 25s\tremaining: 15.1s\n",
            "\n",
            "bestTest = 118.1963638\n",
            "bestIteration = 149\n",
            "\n",
            "87:\tloss: 118.1963638\tbest: 117.3147403 (83)\ttotal: 2m 29s\tremaining: 13.6s\n",
            "\n",
            "bestTest = 143.5667532\n",
            "bestIteration = 199\n",
            "\n",
            "88:\tloss: 143.5667532\tbest: 117.3147403 (83)\ttotal: 2m 32s\tremaining: 12s\n",
            "\n",
            "bestTest = 108.9164411\n",
            "bestIteration = 199\n",
            "\n",
            "89:\tloss: 108.9164411\tbest: 108.9164411 (89)\ttotal: 2m 35s\tremaining: 10.4s\n",
            "\n",
            "bestTest = 143.4443179\n",
            "bestIteration = 199\n",
            "\n",
            "90:\tloss: 143.4443179\tbest: 108.9164411 (89)\ttotal: 2m 38s\tremaining: 8.72s\n",
            "\n",
            "bestTest = 108.8050973\n",
            "bestIteration = 199\n",
            "\n",
            "91:\tloss: 108.8050973\tbest: 108.8050973 (91)\ttotal: 2m 43s\tremaining: 7.12s\n",
            "\n",
            "bestTest = 143.3085261\n",
            "bestIteration = 199\n",
            "\n",
            "92:\tloss: 143.3085261\tbest: 108.8050973 (91)\ttotal: 2m 46s\tremaining: 5.38s\n",
            "\n",
            "bestTest = 108.9153864\n",
            "bestIteration = 199\n",
            "\n",
            "93:\tloss: 108.9153864\tbest: 108.8050973 (91)\ttotal: 2m 49s\tremaining: 3.61s\n",
            "\n",
            "bestTest = 143.8205421\n",
            "bestIteration = 199\n",
            "\n",
            "94:\tloss: 143.8205421\tbest: 108.8050973 (91)\ttotal: 2m 53s\tremaining: 1.83s\n",
            "\n",
            "bestTest = 109.9685495\n",
            "bestIteration = 199\n",
            "\n",
            "95:\tloss: 109.9685495\tbest: 108.8050973 (91)\ttotal: 2m 57s\tremaining: 0us\n",
            "Estimating final quality...\n",
            "Training on fold [0/3]\n",
            "\n",
            "bestTest = 108.553008\n",
            "bestIteration = 199\n",
            "\n",
            "Training on fold [1/3]\n",
            "\n",
            "bestTest = 109.1812057\n",
            "bestIteration = 199\n",
            "\n",
            "Training on fold [2/3]\n",
            "\n",
            "bestTest = 107.3714276\n",
            "bestIteration = 199\n",
            "\n"
          ]
        },
        {
          "output_type": "execute_result",
          "data": {
            "text/plain": [
              "<catboost.core.CatBoostRegressor at 0x7f88205e5190>"
            ]
          },
          "metadata": {},
          "execution_count": 38
        }
      ],
      "source": [
        "training = cbr.Pool(X_train, y_train) \n",
        "testing = cbr.Pool(X_test, y_test)\n",
        "\n",
        "my_model = cbr.CatBoostRegressor(loss_function='RMSE', verbose = False)\n",
        "\n",
        "grid = {'iterations': [100, 150, 200],\n",
        "        'learning_rate': [0.03, 0.1],\n",
        "        'depth': [2, 4, 6, 8],\n",
        "        'l2_leaf_reg': [0.2, 0.5, 1, 3]}\n",
        "\n",
        "my_model.grid_search(grid, training)\n",
        "my_model.fit(X_train, y_train)\n"
      ]
    },
    {
      "cell_type": "code",
      "execution_count": 39,
      "metadata": {
        "colab": {
          "base_uri": "https://localhost:8080/"
        },
        "id": "n7gNWLpX0bLC",
        "outputId": "159932a1-6700-4a96-e2d1-4e3f63e73cea"
      },
      "outputs": [
        {
          "output_type": "stream",
          "name": "stdout",
          "text": [
            "Accuracy of the Gradient Boosting Regression model is 0.9137934638414015\n",
            "RMSE:  108.69161009853833 \n",
            "MAE:  82.11854761251392\n"
          ]
        }
      ],
      "source": [
        "#  make prediction with X_test data\n",
        "pred_model = my_model.predict(X_test)\n",
        "\n",
        "# Evaluate result from the gradient boosting regression model\n",
        "print(\"Accuracy of the Gradient Boosting Regression model is\",r2_score(y_test,pred_model))\n",
        "print(\"RMSE: \", np.sqrt(mean_squared_error(y_test,pred_model)), '\\nMAE: ',mean_absolute_error(y_test, pred_model))\n"
      ]
    },
    {
      "cell_type": "markdown",
      "metadata": {
        "id": "PWKOZV_wCAu8"
      },
      "source": [
        "#### CatBoost Regression Model\n"
      ]
    },
    {
      "cell_type": "code",
      "execution_count": 40,
      "metadata": {
        "colab": {
          "base_uri": "https://localhost:8080/"
        },
        "id": "ojDugII1BDOD",
        "outputId": "68cb694f-654d-4c52-ce2b-6ca7ac1bc5ff"
      },
      "outputs": [
        {
          "output_type": "stream",
          "name": "stdout",
          "text": [
            "0:\tlearn: 223.6599342\ttotal: 12.6ms\tremaining: 113ms\n",
            "1:\tlearn: 194.3110018\ttotal: 27.5ms\tremaining: 110ms\n",
            "2:\tlearn: 181.6636857\ttotal: 45.9ms\tremaining: 107ms\n",
            "3:\tlearn: 172.9177352\ttotal: 58.1ms\tremaining: 87.1ms\n",
            "4:\tlearn: 169.9826968\ttotal: 69.9ms\tremaining: 69.9ms\n",
            "5:\tlearn: 162.9226413\ttotal: 82.1ms\tremaining: 54.7ms\n",
            "6:\tlearn: 157.0316905\ttotal: 94.8ms\tremaining: 40.6ms\n",
            "7:\tlearn: 153.3123899\ttotal: 107ms\tremaining: 26.7ms\n",
            "8:\tlearn: 150.2008732\ttotal: 119ms\tremaining: 13.2ms\n",
            "9:\tlearn: 148.1302226\ttotal: 131ms\tremaining: 0us\n"
          ]
        },
        {
          "output_type": "execute_result",
          "data": {
            "text/plain": [
              "<catboost.core.CatBoostRegressor at 0x7f88205575e0>"
            ]
          },
          "metadata": {},
          "execution_count": 40
        }
      ],
      "source": [
        "cbr = CatBoostRegressor(iterations=10,\n",
        "                        learning_rate = 1,\n",
        "                        loss_function = 'RMSE',\n",
        "                        depth=6,\n",
        "                        verbose = False,\n",
        "                        random_state = 0)\n",
        "cbr.fit(X_train, y_train)"
      ]
    },
    {
      "cell_type": "code",
      "execution_count": 41,
      "metadata": {
        "colab": {
          "base_uri": "https://localhost:8080/"
        },
        "id": "tdzMpNhXB745",
        "outputId": "8cd895d5-9688-4ac4-84b1-65d702274467"
      },
      "outputs": [
        {
          "output_type": "stream",
          "name": "stdout",
          "text": [
            "Accuracy of the Cat Boosting Regression model is 0.8368954329602039\n",
            "RMSE:  149.50612506776378 \n",
            "MAE:  114.22708338328415\n"
          ]
        }
      ],
      "source": [
        "#  make prediction with X_test data\n",
        "c_pred = cbr.predict(X_test)\n",
        "\n",
        "# Evaluate result from the cat boosting regression model\n",
        "print(\"Accuracy of the Cat Boosting Regression model is\",r2_score(y_test,c_pred))\n",
        "print(\"RMSE: \", np.sqrt(mean_squared_error(y_test,c_pred)), '\\nMAE: ',mean_absolute_error(y_test, c_pred))\n"
      ]
    },
    {
      "cell_type": "markdown",
      "metadata": {
        "id": "vXZYFh3K3FR7"
      },
      "source": [
        "#### XGBoost"
      ]
    },
    {
      "cell_type": "code",
      "execution_count": 43,
      "metadata": {
        "id": "6yYMv9_r3Ep7",
        "colab": {
          "base_uri": "https://localhost:8080/"
        },
        "outputId": "2342dc80-de0a-4286-c19e-8b8baca63dad"
      },
      "outputs": [
        {
          "output_type": "stream",
          "name": "stdout",
          "text": [
            "[10:24:58] WARNING: /workspace/src/objective/regression_obj.cu:152: reg:linear is now deprecated in favor of reg:squarederror.\n"
          ]
        },
        {
          "output_type": "execute_result",
          "data": {
            "text/plain": [
              "XGBRegressor(colsample_bytree=0.5, max_depth=100, n_estimators=1000)"
            ]
          },
          "metadata": {},
          "execution_count": 43
        }
      ],
      "source": [
        "# define model\n",
        "xgb = XGBRegressor(learning_rate = 0.1,\n",
        "                   max_depth = 100,\n",
        "                   colsample_bytree = 0.5,\n",
        "                   n_estimators= 1000)\n",
        "\n",
        "xgb.fit(X_train, y_train)\n"
      ]
    },
    {
      "cell_type": "code",
      "execution_count": 44,
      "metadata": {
        "id": "HdEjRV5q2hFG",
        "colab": {
          "base_uri": "https://localhost:8080/"
        },
        "outputId": "cee62adb-11b4-4890-9879-e50b92e96db2"
      },
      "outputs": [
        {
          "output_type": "stream",
          "name": "stdout",
          "text": [
            "Accuracy of the XGBooost Regression model is 0.9917125398367332\n",
            "RMSE:  33.70052383555381 \n",
            "MAE:  23.68612171863726\n"
          ]
        }
      ],
      "source": [
        "#  make prediction with X_test data\n",
        "pred_xgb = xgb.predict(X_test)\n",
        "\n",
        "# Evaluate result from the XGBooost regression model\n",
        "print(\"Accuracy of the XGBooost Regression model is\",r2_score(y_test,pred_xgb))\n",
        "print(\"RMSE: \", np.sqrt(mean_squared_error(y_test,pred_xgb)), '\\nMAE: ',mean_absolute_error(y_test, pred_xgb))\n"
      ]
    },
    {
      "cell_type": "markdown",
      "metadata": {
        "id": "GnwAocuYTzbV"
      },
      "source": [
        "Make prediction with **unseen data**\n"
      ]
    },
    {
      "cell_type": "code",
      "execution_count": 51,
      "metadata": {
        "id": "gthqErpiT3to",
        "colab": {
          "base_uri": "https://localhost:8080/"
        },
        "outputId": "f88cca28-286f-4c88-ef91-a5718c6eddf5"
      },
      "outputs": [
        {
          "output_type": "execute_result",
          "data": {
            "text/plain": [
              "array([1712.6604, 1546.6765, 1453.548 , ..., 2294.7466, 2217.9995,\n",
              "       2119.1177], dtype=float32)"
            ]
          },
          "metadata": {},
          "execution_count": 51
        }
      ],
      "source": [
        "pred_xgb = xgb.predict(test_scaled)\n",
        "pred_xgb"
      ]
    },
    {
      "cell_type": "markdown",
      "metadata": {
        "id": "r47Yi0qBOH9O"
      },
      "source": [
        "### Create Submission File"
      ]
    },
    {
      "cell_type": "code",
      "execution_count": 52,
      "metadata": {
        "id": "c_x3_tweO1yS"
      },
      "outputs": [],
      "source": [
        "# To create Dataframe for prediction\n",
        "my_submission = pd.DataFrame({'row_id': df_test.index, 'energy': pred_xgb})\n",
        "\n",
        "# convert to csv\n",
        "my_submission.to_csv('pred_xgb3.csv', index=False)\n"
      ]
    }
  ],
  "metadata": {
    "colab": {
      "provenance": []
    },
    "kernelspec": {
      "display_name": "Python 3",
      "name": "python3"
    },
    "language_info": {
      "name": "python"
    }
  },
  "nbformat": 4,
  "nbformat_minor": 0
}