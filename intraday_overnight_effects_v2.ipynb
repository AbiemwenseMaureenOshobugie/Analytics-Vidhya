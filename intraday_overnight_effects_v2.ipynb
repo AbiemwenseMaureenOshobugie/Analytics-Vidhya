{
  "cells": [
    {
      "cell_type": "markdown",
      "metadata": {
        "id": "view-in-github",
        "colab_type": "text"
      },
      "source": [
        "<a href=\"https://colab.research.google.com/github/AbiemwenseMaureenOshobugie/Analytics-Vidhya/blob/main/intraday_overnight_effects_v2.ipynb\" target=\"_parent\"><img src=\"https://colab.research.google.com/assets/colab-badge.svg\" alt=\"Open In Colab\"/></a>"
      ]
    },
    {
      "cell_type": "markdown",
      "metadata": {
        "id": "khiovmXXzpJU"
      },
      "source": [
        "### Price Changes Breakdown\n",
        "* Compares **net price movement** across 10 major global indices from 2008 to 2025.\n",
        "* Quantifies the **net movement and its breakdown** into intraday and overnight components.\n",
        "\n"
      ]
    },
    {
      "cell_type": "code",
      "execution_count": null,
      "metadata": {
        "id": "niZwzrMcyVyi"
      },
      "outputs": [],
      "source": [
        "import pandas as pd\n",
        "import numpy as np\n",
        "import yfinance as yf\n",
        "from datetime import datetime\n",
        "import matplotlib.pyplot as plt\n",
        "import matplotlib.dates as mdates\n",
        "\n",
        "import warnings\n",
        "warnings.filterwarnings('ignore')\n",
        "from IPython.display import Javascript\n"
      ]
    },
    {
      "cell_type": "markdown",
      "source": [
        "\n",
        "Magnitide-based gap\n",
        "\n",
        "This method calculates gap-up/down move magnitudes based on continuos up/down trends until a 10% reversal, either draw-down or draw-up, is hit. Then sums up the total magnitude gap moves."
      ],
      "metadata": {
        "id": "y4ZBo9BM5GYQ"
      }
    },
    {
      "cell_type": "code",
      "source": [
        "\n",
        "def compute_gap_magnitudes(prices, threshold=0.10):\n",
        "    log_prices = np.log(prices)\n",
        "    direction = None\n",
        "    peak = trough = log_prices.iloc[0]\n",
        "    gap_up_magnitude = 0\n",
        "    gap_down_magnitude = 0\n",
        "    move_start = log_prices.iloc[0]\n",
        "\n",
        "    for i in try range(1, len(log_prices)):\n",
        "        price = log_prices.iloc[i]\n",
        "\n",
        "        if direction is None:\n",
        "            if price > log_prices.iloc[i - 1]:\n",
        "                direction = 'up'\n",
        "                peak = price\n",
        "                move_start = log_prices.iloc[i - 1]\n",
        "            elif price < log_prices.iloc[i - 1]:\n",
        "                direction = 'down'\n",
        "                trough = price\n",
        "                move_start = log_prices.iloc[i - 1]\n",
        "            continue\n",
        "\n",
        "        if direction == 'up':\n",
        "            if price > peak:\n",
        "                peak = price\n",
        "            drawdown = (peak - price)\n",
        "            if drawdown >= threshold:\n",
        "                gap_up_magnitude += (peak - move_start)\n",
        "                direction = None\n",
        "        elif direction == 'down':\n",
        "            if price < trough:\n",
        "                trough = price\n",
        "            drawup = (price - trough)\n",
        "            if drawup >= threshold:\n",
        "                gap_down_magnitude += (move_start - trough)\n",
        "                direction = None\n",
        "\n",
        "    return gap_up_magnitude, gap_down_magnitude\n"
      ],
      "metadata": {
        "id": "iCeh27T1OFVq"
      },
      "execution_count": null,
      "outputs": []
    },
    {
      "cell_type": "markdown",
      "metadata": {
        "id": "xzS-yRYdJO9n"
      },
      "source": [
        "Changes overnight and intraday"
      ]
    },
    {
      "cell_type": "code",
      "source": [
        "\n",
        "indices = ['^GSPC', '^NDX', '^DJI', '^FTSE', '^FCHI', '^GDAXI', '^NSEI', '^BSESN', '^HSI', '^N225']\n",
        "effects = pd.DataFrame(columns=[\n",
        "    'index', 'intraday_change', 'overnight_change',\n",
        "    'net_change', 'net_pct_change',\n",
        "    'gap_up_magnitude', 'gap_down_magnitude'\n",
        "])\n",
        "\n",
        "for i, idx in enumerate(indices):\n",
        "    start = '2008-01-01'\n",
        "    end = '2025-04-30'\n",
        "    data = yf.download(idx, start=start, end=end, auto_adjust=False, progress=False)\n",
        "    if data.empty:\n",
        "        continue\n",
        "    data.columns = data.columns.get_level_values(0)\n",
        "\n",
        "    # Calculate intraday and overnight returns\n",
        "    data['intraday_change'] = data['Close'] - data['Open']\n",
        "    data['overnight_change'] = data['Open'] - data['Close'].shift(1)\n",
        "\n",
        "    # Magnitude-based gap moves\n",
        "    gap_up_magnitude, gap_down_magnitude = compute_gap_magnitudes(data['Close'])\n",
        "\n",
        "    # Net change and net % change\n",
        "    if len(data) > 0:\n",
        "        initial_open = data['Open'].iloc[0]\n",
        "        final_close = data['Close'].iloc[-1]\n",
        "        net_change = final_close - initial_open\n",
        "        net_pct_change = (net_change / initial_open) * 100\n",
        "    else:\n",
        "        net_change = 0\n",
        "        net_pct_change = 0\n",
        "\n",
        "    effects.loc[i] = [\n",
        "        idx,\n",
        "        data['intraday_change'].sum(),\n",
        "        data['overnight_change'].sum(),\n",
        "        net_change,\n",
        "        net_pct_change,\n",
        "        gap_up_magnitude,\n",
        "        gap_down_magnitude\n",
        "    ]\n",
        "\n",
        "effects = effects.round(2)\n",
        "print(\"\\n\", effects.to_string(index=False))\n",
        "\n",
        "# Summary\n",
        "total_intraday = effects['intraday_change'].astype(float).sum()\n",
        "total_overnight = effects['overnight_change'].astype(float).sum()\n",
        "total_net_change = effects['net_change'].astype(float).sum()\n",
        "\n",
        "weights = effects['net_change'].abs() / effects['net_change'].abs().sum()\n",
        "total_net_pct_change = (effects['net_pct_change'] * weights).sum()\n",
        "\n",
        "intraday_pct = 100 * total_intraday / total_net_change if total_net_change != 0 else 0\n",
        "overnight_pct = 100 * total_overnight / total_net_change if total_net_change != 0 else 0\n",
        "\n",
        "total_gap_ups = effects['gap_up_magnitude'].astype(float).sum()\n",
        "total_gap_downs = effects['gap_down_magnitude'].astype(float).sum()\n",
        "\n",
        "print(\"\\n=== Summary ===\")\n",
        "print(\"Total Intraday Change:   \", round(total_intraday, 4))\n",
        "print(\"Total Overnight Change:  \", round(total_overnight, 4))\n",
        "print(\"Total Net Change:        \", round(total_net_change, 4))\n",
        "\n",
        "print(\"\\nIntraday % of Net:       \", round(intraday_pct, 2), \"%\")\n",
        "print(\"Overnight % of Net:      \", round(overnight_pct, 2), \"%\")\n",
        "print(\"Total Net % Change:      \", round(total_net_pct_change, 2), \"%\")\n",
        "\n",
        "print(\"\\nTotal Gap-Up Magnitude:  \", round(total_gap_ups))\n",
        "print(\"Total Gap-Down Magnitude:\", round(total_gap_downs))\n"
      ],
      "metadata": {
        "colab": {
          "base_uri": "https://localhost:8080/"
        },
        "id": "wwdQvklDyETQ",
        "outputId": "af7cac6b-d30d-4f94-834b-949bda229864"
      },
      "execution_count": null,
      "outputs": [
        {
          "output_type": "stream",
          "name": "stdout",
          "text": [
            "\n",
            "  index  intraday_change  overnight_change  net_change  net_pct_change  gap_up_magnitude  gap_down_magnitude\n",
            " ^GSPC          1711.40           2103.33     3814.73          259.86              3.35                1.75\n",
            "  ^NDX          6809.68           9362.88    16172.56          775.47              5.43                2.14\n",
            "  ^DJI         14665.75          11214.66    25880.41          195.15              3.31                1.06\n",
            " ^FTSE          1802.30             16.50     1818.80           28.17              1.74                1.98\n",
            " ^FCHI         -3629.22           5305.10     1675.88           29.87              3.28                2.75\n",
            "^GDAXI         -1401.94          14561.83    13159.89          163.56              4.43                2.80\n",
            " ^NSEI        -28851.29          46840.09    17988.80          293.13              4.66                1.93\n",
            "^BSESN       -127161.14         186176.54    59015.40          289.39              3.69                3.11\n",
            "  ^HSI        -58613.56          52376.50    -6237.06          -22.57              3.46                4.57\n",
            " ^N225        -12320.72          31444.92    19124.19          126.18              4.94                2.13\n",
            "\n",
            "=== Summary ===\n",
            "Total Intraday Change:    -206988.74\n",
            "Total Overnight Change:   359402.35\n",
            "Total Net Change:         152413.6\n",
            "\n",
            "Intraday % of Net:        -135.81 %\n",
            "Overnight % of Net:       235.81 %\n",
            "Total Net % Change:       275.71 %\n",
            "\n",
            "Total Gap-Up Magnitude:   38\n",
            "Total Gap-Down Magnitude: 24\n"
          ]
        }
      ]
    },
    {
      "cell_type": "markdown",
      "metadata": {
        "id": "4ryDe4Gzu5ht"
      },
      "source": [
        "Time-level snapshot across the entire date range"
      ]
    },
    {
      "cell_type": "code",
      "execution_count": null,
      "metadata": {
        "id": "7cDJ-CJRexko",
        "colab": {
          "base_uri": "https://localhost:8080/",
          "height": 1315
        },
        "outputId": "a1a8c10e-11f5-4998-ad3a-99a10332e77f"
      },
      "outputs": [
        {
          "output_type": "display_data",
          "data": {
            "text/plain": [
              "<IPython.core.display.Javascript object>"
            ],
            "application/javascript": [
              "google.colab.output.setIframeHeight(0, true, {maxHeight: 5000})"
            ]
          },
          "metadata": {}
        },
        {
          "output_type": "stream",
          "name": "stdout",
          "text": [
            "Downloading all index data...\n",
            "\n",
            "==== Period: 2008-01-01 to 2010-12-31 ====\n",
            "\n",
            "    index  total_days  intraday_change  overnight_change  net_change  net_pct_change  gap_up_magnitude   gap_down_magnitude \n",
            "0   ^GSPC         757           -93.92           -116.41     -210.33          -14.33               0.63                 1.03\n",
            "1    ^NDX         757           228.71            -96.38      132.33            6.35               1.21                 0.71\n",
            "2    ^DJI         757          -677.98          -1006.33    -1684.31          -12.70               0.71                 0.52\n",
            "3   ^FTSE         760          -564.70              7.70     -557.00           -8.63               0.77                 0.95\n",
            "4   ^FCHI         768         -3374.84           1615.62    -1759.22          -31.36               0.77                 1.30\n",
            "5  ^GDAXI         764         -2231.28           1099.50    -1131.78          -14.07               0.92                 1.02\n",
            "6   ^NSEI         736         -1645.09           1642.84       -2.25           -0.04               1.12                 1.00\n",
            "7  ^BSESN         735         -8302.92           8418.91      115.99            0.57               0.99                 1.74\n",
            "8    ^HSI         743        -13186.17           8589.42    -4596.75          -16.64               0.88                 1.78\n",
            "9   ^N225         730         -5444.72            517.91    -4926.81          -32.51               1.31                 0.72\n",
            "\n",
            "==== Period: 2011-01-01 to 2015-12-31 ====\n",
            "\n",
            "    index  total_days  intraday_change  overnight_change  net_change  net_pct_change  gap_up_magnitude   gap_down_magnitude \n",
            "0   ^GSPC        1258           657.83            128.49      786.32           62.52               0.41                 0.32\n",
            "1    ^NDX        1258           815.95           1538.66     2354.61          105.18               0.82                 0.33\n",
            "2    ^DJI        1258          6383.97           -536.37     5847.60           50.51               0.57                 0.05\n",
            "3   ^FTSE        1261           340.80              1.60      342.40            5.80               0.17                 0.33\n",
            "4   ^FCHI        1275          -847.09           1676.60      829.51           21.56               0.87                 0.68\n",
            "5  ^GDAXI        1266         -1732.53           5502.15     3769.62           54.06               1.10                 0.82\n",
            "6   ^NSEI        1215         -5930.76           7699.66     1768.90           28.63               0.82                 0.64\n",
            "7  ^BSESN        1222        -31308.66          36804.59     5495.93           26.65               0.62                 0.59\n",
            "8    ^HSI        1230        -22158.15          20936.91    -1221.24           -5.28               0.80                 0.67\n",
            "9   ^N225        1226         -1063.33           9744.85     8681.52           83.86               1.39                 0.65\n",
            "\n",
            "==== Period: 2016-01-01 to 2019-12-31 ====\n",
            "\n",
            "    index  total_days  intraday_change  overnight_change  net_change  net_pct_change  gap_up_magnitude   gap_down_magnitude \n",
            "0   ^GSPC        1006           351.79            840.79     1192.58           58.51               0.55                 0.00\n",
            "1    ^NDX        1006          1458.99           2789.02     4248.01           94.71               0.87                 0.17\n",
            "2    ^DJI        1006          4110.72           7022.24    11132.96           63.96               0.56                 0.10\n",
            "3   ^FTSE        1011          1297.70              2.40     1300.10           20.83               0.37                 0.07\n",
            "4   ^FCHI        1022           604.84            791.17     1396.01           30.47               0.48                 0.17\n",
            "5  ^GDAXI        1009          -805.49           3568.69     2763.20           26.35               0.55                 0.33\n",
            "6   ^NSEI         978         -8135.20          12379.10     4243.90           53.55               0.63                 0.19\n",
            "7  ^BSESN         980        -39916.92          55054.13    15137.22           57.96               0.41                 0.38\n",
            "8    ^HSI         983         -6156.80          12563.93     6407.13           29.41               0.48                 0.49\n",
            "9   ^N225         979         -2145.25           6983.29     4838.04           25.71               0.58                 0.42\n",
            "\n",
            "==== Period: 2020-01-01 to 2022-12-31 ====\n",
            "\n",
            "    index  total_days  intraday_change  overnight_change  net_change  net_pct_change  gap_up_magnitude   gap_down_magnitude \n",
            "0   ^GSPC         756            54.83            540.00      594.83           18.33               0.92                 0.40\n",
            "1    ^NDX         756           369.97           1767.57     2137.54           24.28               1.00                 0.82\n",
            "2    ^DJI         756           909.29           3598.99     4508.28           15.74               0.66                 0.50\n",
            "3   ^FTSE         756          -150.30             59.60      -90.70           -1.20               0.41                 0.31\n",
            "4   ^FCHI         772           132.15            325.00      457.15            7.60               0.68                 0.54\n",
            "5  ^GDAXI         766          -964.56           1654.44      689.88            5.21               0.66                 0.79\n",
            "6   ^NSEI         746         -7700.15          13603.30     5903.15           48.38               1.14                 0.23\n",
            "7  ^BSESN         744        -30002.98          49503.45    19500.47           47.17               0.82                 0.76\n",
            "8    ^HSI         741        -15635.55           7167.59    -8467.96          -29.98               0.31                 1.33\n",
            "9   ^N225         731         -2432.92           5207.66     2774.74           11.90               0.69                 0.25\n",
            "\n",
            "==== Period: 2023-01-01 to 2025-04-30 ====\n",
            "\n",
            "    index  total_days  intraday_change  overnight_change  net_change  net_pct_change  gap_up_magnitude   gap_down_magnitude \n",
            "0   ^GSPC         576           682.44            638.79     1321.23           34.29               0.53                 0.00\n",
            "1    ^NDX         576          3730.11           3048.52     6778.63           61.41               0.76                 0.39\n",
            "2    ^DJI         576          3449.19           1817.35     5266.54           15.89               0.31                 0.00\n",
            "3   ^FTSE         581           878.80            -54.80      824.00           11.06               0.16                 0.00\n",
            "4   ^FCHI         587          -144.29            909.08      764.79           11.73               0.43                 0.00\n",
            "5  ^GDAXI         585          4331.93           2881.22     7213.15           51.55               0.62                 0.00\n",
            "6   ^NSEI         564         -5440.09          11433.95     5993.85           33.06               0.37                 0.00\n",
            "7  ^BSESN         563        -17629.66          36166.93    18537.26           30.45               0.34                 0.00\n",
            "8    ^HSI         561         -1476.89           3301.60     1824.71            9.32               0.75                 0.35\n",
            "9   ^N225         563         -1234.50           9679.49     8444.99           32.69               0.64                 0.19\n"
          ]
        }
      ],
      "source": [
        "\n",
        "# Display settings for Google Colab (for adjusting iframe height)\n",
        "display(Javascript('''google.colab.output.setIframeHeight(0, true, {maxHeight: 5000})'''))\n",
        "\n",
        "# Indices and time periods\n",
        "indices = ['^GSPC', '^NDX', '^DJI', '^FTSE', '^FCHI', '^GDAXI', '^NSEI', '^BSESN', '^HSI', '^N225']\n",
        "time_periods = [\n",
        "    ('2008-01-01', '2010-12-31'),\n",
        "    ('2011-01-01', '2015-12-31'),\n",
        "    ('2016-01-01', '2019-12-31'),\n",
        "    ('2020-01-01', '2022-12-31'),\n",
        "    ('2023-01-01', '2025-04-30')\n",
        "]\n",
        "\n",
        "# Dictionary to store results per period\n",
        "period_dataframes = {}\n",
        "\n",
        "# Download all index data first\n",
        "print(\"Downloading all index data...\")\n",
        "index_data = {}\n",
        "for idx in indices:\n",
        "    index_data[idx] = yf.download(idx, start='2008-01-01', end='2025-04-30', auto_adjust=False, progress=False)\n",
        "    if isinstance(index_data[idx].columns, pd.MultiIndex):\n",
        "        index_data[idx].columns = index_data[idx].columns.get_level_values(0)\n",
        "\n",
        "# Process each time period\n",
        "for period_start, period_end in time_periods:\n",
        "    period_key = f\"{period_start} to {period_end}\"\n",
        "    period_results = []\n",
        "\n",
        "    for idx in indices:\n",
        "        data = index_data[idx].loc[period_start:period_end].copy()\n",
        "\n",
        "        if data.empty or len(data) < 2:\n",
        "            continue\n",
        "\n",
        "        # Price changes\n",
        "        data['intraday_change'] = data['Close'] - data['Open']\n",
        "        data['overnight_change'] = data['Open'] - data['Close'].shift(1)\n",
        "\n",
        "        # Magnitude-based gap moves\n",
        "        gap_up_magnitude, gap_down_magnitude = compute_gap_magnitudes(data['Close'])\n",
        "\n",
        "        initial_open = data['Open'].iloc[0]\n",
        "        final_close = data['Close'].iloc[-1]\n",
        "        net_change = final_close - initial_open\n",
        "        net_pct_change = (net_change / initial_open) * 100\n",
        "\n",
        "        # Store the results for the current period and index\n",
        "        period_results.append({\n",
        "            'index': idx,\n",
        "            'total_days': len(data),\n",
        "            'intraday_change': data['intraday_change'].sum(),\n",
        "            'overnight_change': data['overnight_change'].sum(),\n",
        "            'net_change': net_change,\n",
        "            'net_pct_change': net_pct_change,\n",
        "            'gap_up_magnitude ': gap_up_magnitude,\n",
        "            'gap_down_magnitude ': gap_down_magnitude\n",
        "\n",
        "        })\n",
        "    # Round values inside each dictionary in the list\n",
        "    rounded_results = [\n",
        "       {k: round(v, 2) if isinstance(v, (int, float)) else v for k, v in result.items()}\n",
        "       for result in period_results\n",
        "        ]\n",
        "    period_dataframes[period_key] = pd.DataFrame(rounded_results)\n",
        "\n",
        "for period, df in period_dataframes.items():\n",
        "    print(f\"\\n==== Period: {period} ====\\n\")\n",
        "    print(df.to_string())\n"
      ]
    },
    {
      "cell_type": "markdown",
      "metadata": {
        "id": "41NjJO9Izxp3"
      },
      "source": [
        "Region-level snapshot across the entire date range\n"
      ]
    },
    {
      "cell_type": "code",
      "source": [
        "\n",
        "indices = {\n",
        "    'US': ['^GSPC', '^NDX', '^DJI'],  # S&P 500, NASDAQ, Dow Jones\n",
        "    'Europe': ['^FTSE', '^FCHI', '^GDAXI'],  # FTSE 100, CAC 40, DAX\n",
        "    'Asia': ['^NSEI', '^BSESN', '^HSI', '^N225']  # Nifty 50, Sensex, Hang Seng, Nikkei 225\n",
        "}\n",
        "\n",
        "region_summary_full = {}\n",
        "\n",
        "for region, region_indices in indices.items():\n",
        "    region_results = []\n",
        "    for ridx in region_indices:\n",
        "        data = index_data[ridx].copy()\n",
        "\n",
        "        if data.empty or len(data) < 2:\n",
        "            continue\n",
        "\n",
        "        data['intraday_change'] = data['Close'] - data['Open']\n",
        "        data['overnight_change'] = data['Open'] - data['Close'].shift(1)\n",
        "\n",
        "        gap_up_magnitude, gap_down_magnitude = compute_gap_magnitudes(data['Close'])\n",
        "\n",
        "        initial_open = data['Open'].iloc[0]\n",
        "        final_close = data['Close'].iloc[-1]\n",
        "        net_change = final_close - initial_open\n",
        "        net_pct_change = (net_change / initial_open) * 100\n",
        "\n",
        "        region_results.append({\n",
        "            'region': region,\n",
        "            'index': ridx,\n",
        "            'total_days': len(data),\n",
        "            'intraday_change': data['intraday_change'].sum(),\n",
        "            'overnight_change': data['overnight_change'].sum(),\n",
        "            'net_change': net_change,\n",
        "            'net_pct_change': net_pct_change,\n",
        "            'gap_up_magnitude': gap_up_magnitude,\n",
        "            'gap_down_magnitude': gap_down_magnitude\n",
        "        })\n",
        "\n",
        "    # Round the values in region_results\n",
        "    rounded_results = [\n",
        "        {k: round(v, 2) if isinstance(v, (int, float)) else v for k, v in row.items()}\n",
        "        for row in region_results\n",
        "    ]\n",
        "\n",
        "    region_summary_full[region] = pd.DataFrame(rounded_results)\n",
        "    print(f\"\\n==== Region Snapshot: {region} ====\\n\")\n",
        "    print(region_summary_full[region].to_string())\n"
      ],
      "metadata": {
        "colab": {
          "base_uri": "https://localhost:8080/"
        },
        "id": "KcLE4OHbz1up",
        "outputId": "8e839c6f-3746-47ca-a51d-2b3a44deaca8"
      },
      "execution_count": null,
      "outputs": [
        {
          "output_type": "stream",
          "name": "stdout",
          "text": [
            "\n",
            "==== Region Snapshot: US ====\n",
            "\n",
            "  region  index  total_days  intraday_change  overnight_change  net_change  net_pct_change  gap_up_magnitude  gap_down_magnitude\n",
            "0     US  ^GSPC        4353          1654.81           2053.57     3708.38          252.62              3.35                1.75\n",
            "1     US   ^NDX        4353          6634.64           9127.79    15762.43          755.80              5.43                2.14\n",
            "2     US   ^DJI        4353         14148.34          10978.43    25126.77          189.47              3.31                1.06\n",
            "\n",
            "==== Region Snapshot: Europe ====\n",
            "\n",
            "   region   index  total_days  intraday_change  overnight_change  net_change  net_pct_change  gap_up_magnitude  gap_down_magnitude\n",
            "0  Europe   ^FTSE        4369          1802.30             16.50     1818.80           28.17              1.74                1.98\n",
            "1  Europe   ^FCHI        4424         -3629.22           5305.10     1675.88           29.87              3.28                2.75\n",
            "2  Europe  ^GDAXI        4390         -1401.94          14561.83    13159.89          163.56              4.43                2.80\n",
            "\n",
            "==== Region Snapshot: Asia ====\n",
            "\n",
            "  region   index  total_days  intraday_change  overnight_change  net_change  net_pct_change  gap_up_magnitude  gap_down_magnitude\n",
            "0   Asia   ^NSEI        4239        -28851.29          46840.09    17988.80          293.13              4.66                1.93\n",
            "1   Asia  ^BSESN        4244       -127161.14         186176.54    59015.40          289.39              3.69                3.11\n",
            "2   Asia    ^HSI        4258        -58613.56          52376.50    -6237.06          -22.57              3.46                4.57\n",
            "3   Asia   ^N225        4229        -12320.72          31444.92    19124.19          126.18              4.94                2.13\n"
          ]
        }
      ]
    }
  ],
  "metadata": {
    "colab": {
      "provenance": [],
      "authorship_tag": "ABX9TyOLRKGp0Tw//Iakr9askkEo",
      "include_colab_link": true
    },
    "kernelspec": {
      "display_name": "Python 3",
      "name": "python3"
    },
    "language_info": {
      "name": "python"
    }
  },
  "nbformat": 4,
  "nbformat_minor": 0
}